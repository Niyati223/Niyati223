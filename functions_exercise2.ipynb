{
  "nbformat": 4,
  "nbformat_minor": 0,
  "metadata": {
    "colab": {
      "provenance": [],
      "collapsed_sections": [],
      "authorship_tag": "ABX9TyPFLbT3+tnWGM3+jQCw1AFg",
      "include_colab_link": true
    },
    "kernelspec": {
      "name": "python3",
      "display_name": "Python 3"
    },
    "language_info": {
      "name": "python"
    }
  },
  "cells": [
    {
      "cell_type": "markdown",
      "metadata": {
        "id": "view-in-github",
        "colab_type": "text"
      },
      "source": [
        "<a href=\"https://colab.research.google.com/github/Niyati223/Niyati223/blob/main/functions_exercise2.ipynb\" target=\"_parent\"><img src=\"https://colab.research.google.com/assets/colab-badge.svg\" alt=\"Open In Colab\"/></a>"
      ]
    },
    {
      "cell_type": "markdown",
      "source": [
        "1.Write a Python function that accepts a string and calculate the number of upper case letters and lower case letters "
      ],
      "metadata": {
        "id": "Y6HVFsR_qEN0"
      }
    },
    {
      "cell_type": "code",
      "source": [
        "def string_tes(s):\n",
        "    d={\"UPPER_CASE\":0, \"LOWER_CASE\":0}\n",
        "    for c in s:\n",
        "        if c.isupper():\n",
        "           d[\"UPPER_CASE\"]+=1\n",
        "        elif c.islower():\n",
        "           d[\"LOWER_CASE\"]+=1\n",
        "        else:\n",
        "           pass\n",
        "    print (\"Original String : \", s)\n",
        "    print (\"No. of Upper case characters : \", d[\"UPPER_CASE\"])\n",
        "    print (\"No. of Lower case Characters : \", d[\"LOWER_CASE\"])\n",
        "\n",
        "string_tes('The quick Brown Fox')"
      ],
      "metadata": {
        "colab": {
          "base_uri": "https://localhost:8080/"
        },
        "id": "p_zs4XTasl_V",
        "outputId": "09fded56-27b5-4cc6-f7fe-ec4d30d824c2"
      },
      "execution_count": null,
      "outputs": [
        {
          "output_type": "stream",
          "name": "stdout",
          "text": [
            "Original String :  The quick Brown Fox\n",
            "No. of Upper case characters :  3\n",
            "No. of Lower case Characters :  13\n"
          ]
        }
      ]
    },
    {
      "cell_type": "markdown",
      "source": [
        "2.Write a Python function to check whether a string is a pangram or not. "
      ],
      "metadata": {
        "id": "9oTDcMhMsxAu"
      }
    },
    {
      "cell_type": "code",
      "source": [
        "import string\n",
        "def ispangram(str):\n",
        "   alphabet = \"abcdefghijklmnopqrstuvwxyz\"\n",
        "   for char in alphabet:\n",
        "      if char not in str.lower():\n",
        "         return False\n",
        "   return True\n",
        "# main\n",
        "string = \"The quick brown fox jumps over the lazy dog\"\n",
        "if(ispangram(string) == True):\n",
        "   print(\"The given string:\", string, \"is a pangram\")\n",
        "else:\n",
        "   print(\"The given string:\", string, \"is not a pangram\")"
      ],
      "metadata": {
        "colab": {
          "base_uri": "https://localhost:8080/"
        },
        "id": "V5Kf6EXrs2JV",
        "outputId": "e6573297-3e3c-466e-aaef-cee01415b6f0"
      },
      "execution_count": null,
      "outputs": [
        {
          "output_type": "stream",
          "name": "stdout",
          "text": [
            "The given string: The quick brown fox jumps over the lazy dog is a pangram\n"
          ]
        }
      ]
    },
    {
      "cell_type": "markdown",
      "source": [
        "3.Write a Python function that takes a number as a parameter and check the number is prime or not."
      ],
      "metadata": {
        "id": "I-Y18qkHw3uV"
      }
    },
    {
      "cell_type": "code",
      "source": [
        "def primeorno(n):\n",
        "  if(n==1):\n",
        "    return False\n",
        "  elif(n==2):\n",
        "    return True;\n",
        "  else:\n",
        "    for i in range(2,n):\n",
        "      if(n%i==0):\n",
        "        return('not a prime')\n",
        "    return('it is a prime')\n",
        "\n",
        "print(primeorno(2))\n",
        "\n"
      ],
      "metadata": {
        "colab": {
          "base_uri": "https://localhost:8080/"
        },
        "id": "nIl0mrubw8VF",
        "outputId": "c0e3cb50-690d-406f-ed3b-692806342ca4"
      },
      "execution_count": null,
      "outputs": [
        {
          "output_type": "stream",
          "name": "stdout",
          "text": [
            "True\n"
          ]
        }
      ]
    },
    {
      "cell_type": "markdown",
      "source": [
        "4.Write a Python function to check whether a number is perfect or not."
      ],
      "metadata": {
        "id": "8AceQ3OlyHUv"
      }
    },
    {
      "cell_type": "code",
      "source": [
        "def perfect_number(n):\n",
        "    sum = 0\n",
        "    for x in range(1, n):\n",
        "        if n % x == 0:\n",
        "            sum += x\n",
        "    if(sum == n):\n",
        "      return(\"The number is a Perfect number!\")\n",
        "    else:\n",
        "      return(\"The number is not a Perfect number!\")\n",
        "\n",
        "\n",
        "print(perfect_number(6))"
      ],
      "metadata": {
        "colab": {
          "base_uri": "https://localhost:8080/"
        },
        "id": "k4SeTiCLxmP3",
        "outputId": "91c9423a-f8b5-42c8-9dbc-84c342144e4d"
      },
      "execution_count": null,
      "outputs": [
        {
          "output_type": "stream",
          "name": "stdout",
          "text": [
            "The number is a Perfect number!\n"
          ]
        }
      ]
    }
  ]
}