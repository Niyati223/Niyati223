{
  "nbformat": 4,
  "nbformat_minor": 0,
  "metadata": {
    "colab": {
      "provenance": [],
      "collapsed_sections": [],
      "authorship_tag": "ABX9TyMwMXEha8wLCSkAkkRFT7zf",
      "include_colab_link": true
    },
    "kernelspec": {
      "name": "python3",
      "display_name": "Python 3"
    },
    "language_info": {
      "name": "python"
    }
  },
  "cells": [
    {
      "cell_type": "markdown",
      "metadata": {
        "id": "view-in-github",
        "colab_type": "text"
      },
      "source": [
        "<a href=\"https://colab.research.google.com/github/Niyati223/Niyati223/blob/main/Numpy.ipynb\" target=\"_parent\"><img src=\"https://colab.research.google.com/assets/colab-badge.svg\" alt=\"Open In Colab\"/></a>"
      ]
    },
    {
      "cell_type": "code",
      "execution_count": null,
      "metadata": {
        "id": "Od5hc9EtUcFC"
      },
      "outputs": [],
      "source": [
        "import numpy as np"
      ]
    },
    {
      "cell_type": "code",
      "source": [
        "ages_list=[10,5,8,32,65,43]\n",
        "print(ages_list)"
      ],
      "metadata": {
        "colab": {
          "base_uri": "https://localhost:8080/"
        },
        "id": "rBjQwhpzVJ8m",
        "outputId": "1ced64dd-0066-406d-8bec-480c34977351"
      },
      "execution_count": null,
      "outputs": [
        {
          "output_type": "stream",
          "name": "stdout",
          "text": [
            "[10, 5, 8, 32, 65, 43]\n"
          ]
        }
      ]
    },
    {
      "cell_type": "markdown",
      "source": [
        "There are 3 main ways to instantiate a Numpy ndarray object. One of these is to use np.array(<'collection'>)"
      ],
      "metadata": {
        "id": "lZFUjCYTWN-4"
      }
    },
    {
      "cell_type": "code",
      "source": [
        "ages=np.array(ages_list)\n",
        "print(type(ages))\n",
        "print(ages)"
      ],
      "metadata": {
        "colab": {
          "base_uri": "https://localhost:8080/"
        },
        "id": "dSUsmS7NVi61",
        "outputId": "ad661cee-d5ad-47b8-936f-526d06df7a92"
      },
      "execution_count": null,
      "outputs": [
        {
          "output_type": "stream",
          "name": "stdout",
          "text": [
            "<class 'numpy.ndarray'>\n",
            "[10  5  8 32 65 43]\n"
          ]
        }
      ]
    },
    {
      "cell_type": "code",
      "source": [
        "print(ages)\n",
        "print('size:\\t',ages.size)\n",
        "print('shape:\\t',ages.shape)"
      ],
      "metadata": {
        "colab": {
          "base_uri": "https://localhost:8080/"
        },
        "id": "6iwCLU2EV_Ek",
        "outputId": "ef15bfe2-5d5c-48e7-8151-f23af3ae29fc"
      },
      "execution_count": null,
      "outputs": [
        {
          "output_type": "stream",
          "name": "stdout",
          "text": [
            "[10  5  8 32 65 43]\n",
            "size:\t 6\n",
            "shape:\t (6,)\n"
          ]
        }
      ]
    },
    {
      "cell_type": "code",
      "source": [
        "zeroArr=np.zeros(5)\n",
        "print(zeroArr)\n"
      ],
      "metadata": {
        "colab": {
          "base_uri": "https://localhost:8080/"
        },
        "id": "q-jJhyWLXztE",
        "outputId": "2ac90888-be4b-4c8d-d0f9-d881a9c4157b"
      },
      "execution_count": null,
      "outputs": [
        {
          "output_type": "stream",
          "name": "stdout",
          "text": [
            "[0. 0. 0. 0. 0.]\n"
          ]
        }
      ]
    },
    {
      "cell_type": "markdown",
      "source": [
        "Multi Dimension"
      ],
      "metadata": {
        "id": "_v9RzTBfY49K"
      }
    },
    {
      "cell_type": "code",
      "source": [
        "weight_list=[32,18,26,60,55,65]\n",
        "print(weight_list)\n",
        "print(type(weight_list))"
      ],
      "metadata": {
        "colab": {
          "base_uri": "https://localhost:8080/"
        },
        "id": "SxJQH4fKYJcT",
        "outputId": "2241d89b-8456-41ca-a889-91d1ea8baa50"
      },
      "execution_count": null,
      "outputs": [
        {
          "output_type": "stream",
          "name": "stdout",
          "text": [
            "[32, 18, 26, 60, 55, 65]\n",
            "<class 'list'>\n"
          ]
        }
      ]
    },
    {
      "cell_type": "code",
      "source": [
        "people=np.array([ages_list,weight_list])\n",
        "print(people)"
      ],
      "metadata": {
        "colab": {
          "base_uri": "https://localhost:8080/"
        },
        "id": "9WfjRs2LbuZ0",
        "outputId": "f2692943-9ab0-4ef0-d73d-54ffe1021a7d"
      },
      "execution_count": null,
      "outputs": [
        {
          "output_type": "stream",
          "name": "stdout",
          "text": [
            "[[10  5  8 32 65 43]\n",
            " [32 18 26 60 55 65]]\n"
          ]
        }
      ]
    },
    {
      "cell_type": "code",
      "source": [
        "#shape and size\n",
        "print('people:\\t',people)\n",
        "print('size:\\t',people.size)\n",
        "print('shape:\\t',people.shape)"
      ],
      "metadata": {
        "colab": {
          "base_uri": "https://localhost:8080/"
        },
        "id": "d5lOQQA7b9j7",
        "outputId": "037a1111-03c2-4ab0-fc1d-9cc7598343e7"
      },
      "execution_count": null,
      "outputs": [
        {
          "output_type": "stream",
          "name": "stdout",
          "text": [
            "people:\t [[10  5  8 32 65 43]\n",
            " [32 18 26 60 55 65]]\n",
            "size:\t 12\n",
            "shape:\t (2, 6)\n"
          ]
        }
      ]
    },
    {
      "cell_type": "code",
      "source": [
        "#reshape\n",
        "#creating 12 dimensions and that should have a single element and for that we use reshape\n",
        "people=people.reshape(12,1)\n",
        "print('people:\\t',people)"
      ],
      "metadata": {
        "colab": {
          "base_uri": "https://localhost:8080/"
        },
        "id": "8_GywetKcXrD",
        "outputId": "a1dd8eae-e659-452e-cbd6-7f0ffa90d06a"
      },
      "execution_count": null,
      "outputs": [
        {
          "output_type": "stream",
          "name": "stdout",
          "text": [
            "people:\t [[10]\n",
            " [ 5]\n",
            " [ 8]\n",
            " [32]\n",
            " [65]\n",
            " [43]\n",
            " [32]\n",
            " [18]\n",
            " [26]\n",
            " [60]\n",
            " [55]\n",
            " [65]]\n"
          ]
        }
      ]
    },
    {
      "cell_type": "code",
      "source": [
        "#check the size of reshaped and shape of it\n",
        "print('size:\\t',people.size)\n",
        "print('shape:\\t',people.shape)"
      ],
      "metadata": {
        "colab": {
          "base_uri": "https://localhost:8080/"
        },
        "id": "9JpJxrRddZLT",
        "outputId": "b6c84b8d-54ce-44dc-c175-17c85417277a"
      },
      "execution_count": null,
      "outputs": [
        {
          "output_type": "stream",
          "name": "stdout",
          "text": [
            "size:\t 12\n",
            "shape:\t (12, 1)\n"
          ]
        }
      ]
    },
    {
      "cell_type": "markdown",
      "source": [
        "Exercise"
      ],
      "metadata": {
        "id": "HuL3mHjQfdi9"
      }
    },
    {
      "cell_type": "markdown",
      "source": [
        "Generate a 1D numpy array with the values [7, 9, 65, 33, 85, 99]"
      ],
      "metadata": {
        "id": "Rq7kRh7zf_Y8"
      }
    },
    {
      "cell_type": "code",
      "source": [
        "import numpy as np\n",
        "arr=np.array([7, 9, 65, 33, 85, 99])\n",
        "print(arr)"
      ],
      "metadata": {
        "colab": {
          "base_uri": "https://localhost:8080/"
        },
        "id": "p6jau38LdpTL",
        "outputId": "28046a14-8571-4715-bd16-4c17b2eda01b"
      },
      "execution_count": null,
      "outputs": [
        {
          "output_type": "stream",
          "name": "stdout",
          "text": [
            "[ 7  9 65 33 85 99]\n"
          ]
        }
      ]
    },
    {
      "cell_type": "code",
      "source": [
        "print('size:\\t',arr.size)\n",
        "print('shape:\\t',arr.shape)"
      ],
      "metadata": {
        "colab": {
          "base_uri": "https://localhost:8080/"
        },
        "id": "lT60T32ngJ10",
        "outputId": "825d6b4c-5b48-4994-fa20-c11f1e8a7e0a"
      },
      "execution_count": null,
      "outputs": [
        {
          "output_type": "stream",
          "name": "stdout",
          "text": [
            "size:\t 6\n",
            "shape:\t (6,)\n"
          ]
        }
      ]
    },
    {
      "cell_type": "markdown",
      "source": [
        "Generate a matrix (2D numpy array) of the values"
      ],
      "metadata": {
        "id": "lafBq3HUgDTC"
      }
    },
    {
      "cell_type": "code",
      "source": [
        "two=np.array([[1,2,4],[2,3,0],[0,5,1]])\n",
        "print(two)"
      ],
      "metadata": {
        "colab": {
          "base_uri": "https://localhost:8080/"
        },
        "id": "EHKRKBaOgXNL",
        "outputId": "bd8aff07-fd26-442d-d249-5bd859dafe34"
      },
      "execution_count": null,
      "outputs": [
        {
          "output_type": "stream",
          "name": "stdout",
          "text": [
            "[[1 2 4]\n",
            " [2 3 0]\n",
            " [0 5 1]]\n"
          ]
        }
      ]
    },
    {
      "cell_type": "code",
      "source": [
        "print('size:\\t',two.size)\n",
        "print('shape:\\t',two.shape)"
      ],
      "metadata": {
        "colab": {
          "base_uri": "https://localhost:8080/"
        },
        "id": "-wOexEUAg9tj",
        "outputId": "8f69efc9-66cc-482f-bca3-4207ca91722d"
      },
      "execution_count": null,
      "outputs": [
        {
          "output_type": "stream",
          "name": "stdout",
          "text": [
            "size:\t 9\n",
            "shape:\t (3, 3)\n"
          ]
        }
      ]
    },
    {
      "cell_type": "markdown",
      "source": [
        "Change the dimensions of this array to another permitted shape"
      ],
      "metadata": {
        "id": "HtCB_J7qhP2L"
      }
    },
    {
      "cell_type": "code",
      "source": [
        "two=two.reshape(9,1)\n",
        "print(two)"
      ],
      "metadata": {
        "colab": {
          "base_uri": "https://localhost:8080/"
        },
        "id": "0oG0yZoghSiL",
        "outputId": "556c7423-5ffa-4fda-8039-6e858513b0df"
      },
      "execution_count": null,
      "outputs": [
        {
          "output_type": "stream",
          "name": "stdout",
          "text": [
            "[[1]\n",
            " [2]\n",
            " [4]\n",
            " [2]\n",
            " [3]\n",
            " [0]\n",
            " [0]\n",
            " [5]\n",
            " [1]]\n"
          ]
        }
      ]
    },
    {
      "cell_type": "code",
      "source": [
        "two=two.reshape(9,)\n",
        "print(two)"
      ],
      "metadata": {
        "colab": {
          "base_uri": "https://localhost:8080/"
        },
        "id": "KMNLq2IbhdOM",
        "outputId": "28a4ab49-dfe5-4422-a18b-b95384faba6c"
      },
      "execution_count": null,
      "outputs": [
        {
          "output_type": "stream",
          "name": "stdout",
          "text": [
            "[1 2 4 2 3 0 0 5 1]\n"
          ]
        }
      ]
    },
    {
      "cell_type": "markdown",
      "source": [
        "Array Generation"
      ],
      "metadata": {
        "id": "w5chw3dbhxIy"
      }
    },
    {
      "cell_type": "markdown",
      "source": [
        "The np.arange() method creates a range of numbers with user defined steps between each."
      ],
      "metadata": {
        "id": "jQd66enshz9i"
      }
    },
    {
      "cell_type": "code",
      "source": [
        "five_table=np.arange(0,56,5)\n",
        "print(five_table)"
      ],
      "metadata": {
        "colab": {
          "base_uri": "https://localhost:8080/"
        },
        "id": "2w_1X2lDhoQK",
        "outputId": "70c76849-51b6-4775-aa3a-a23fea95b21f"
      },
      "execution_count": null,
      "outputs": [
        {
          "output_type": "stream",
          "name": "stdout",
          "text": [
            "[ 0  5 10 15 20 25 30 35 40 45 50 55]\n"
          ]
        }
      ]
    },
    {
      "cell_type": "markdown",
      "source": [
        "The np.linspace() method will produce a range of evenly spaced values, starting, ending, and taking as many steps as you specify."
      ],
      "metadata": {
        "id": "IwI4FqariR4y"
      }
    },
    {
      "cell_type": "code",
      "source": [
        "five_space=np.linspace(0,40,11)\n",
        "print(five_space)"
      ],
      "metadata": {
        "colab": {
          "base_uri": "https://localhost:8080/"
        },
        "id": "F2Vtvl5oiUWc",
        "outputId": "50fb2b17-c44b-472c-db5c-f07a15b7c759"
      },
      "execution_count": null,
      "outputs": [
        {
          "output_type": "stream",
          "name": "stdout",
          "text": [
            "[ 0.  4.  8. 12. 16. 20. 24. 28. 32. 36. 40.]\n"
          ]
        }
      ]
    },
    {
      "cell_type": "code",
      "source": [
        "five_space=np.linspace(0,50,11)\n",
        "print(five_space)"
      ],
      "metadata": {
        "colab": {
          "base_uri": "https://localhost:8080/"
        },
        "id": "HVGbmqZrizpL",
        "outputId": "8dc6467d-2449-4f01-8994-3a99de9eb87b"
      },
      "execution_count": null,
      "outputs": [
        {
          "output_type": "stream",
          "name": "stdout",
          "text": [
            "[ 0.  5. 10. 15. 20. 25. 30. 35. 40. 45. 50.]\n"
          ]
        }
      ]
    },
    {
      "cell_type": "markdown",
      "source": [
        "The .repeat() method will repeat an object you pass a specified number of times."
      ],
      "metadata": {
        "id": "1hE71su7i7Nm"
      }
    },
    {
      "cell_type": "code",
      "source": [
        "twoarr=np.repeat(2,10)\n",
        "print(twoarr)"
      ],
      "metadata": {
        "colab": {
          "base_uri": "https://localhost:8080/"
        },
        "id": "Irut_67ki-fy",
        "outputId": "38f94736-de0e-481f-a95b-2d32be2c05c3"
      },
      "execution_count": null,
      "outputs": [
        {
          "output_type": "stream",
          "name": "stdout",
          "text": [
            "[2 2 2 2 2 2 2 2 2 2]\n"
          ]
        }
      ]
    },
    {
      "cell_type": "code",
      "source": [
        "threearr=np.repeat(3,5)\n",
        "print(threearr)"
      ],
      "metadata": {
        "colab": {
          "base_uri": "https://localhost:8080/"
        },
        "id": "001_HoPzjVVC",
        "outputId": "e3d58a38-9919-4cd9-f89b-8158adcb8d49"
      },
      "execution_count": null,
      "outputs": [
        {
          "output_type": "stream",
          "name": "stdout",
          "text": [
            "[3 3 3 3 3]\n"
          ]
        }
      ]
    },
    {
      "cell_type": "markdown",
      "source": [
        "The np.eye() functions will create an identity matrix/array for us."
      ],
      "metadata": {
        "id": "8l6T2nXXjfam"
      }
    },
    {
      "cell_type": "code",
      "source": [
        "identity_matrix = np.eye(6)\n",
        "print(identity_matrix)"
      ],
      "metadata": {
        "colab": {
          "base_uri": "https://localhost:8080/"
        },
        "id": "hQAijg6GjjfL",
        "outputId": "335eb507-5f2d-4bbf-8898-d9b7cd67fc99"
      },
      "execution_count": null,
      "outputs": [
        {
          "output_type": "stream",
          "name": "stdout",
          "text": [
            "[[1. 0. 0. 0. 0. 0.]\n",
            " [0. 1. 0. 0. 0. 0.]\n",
            " [0. 0. 1. 0. 0. 0.]\n",
            " [0. 0. 0. 1. 0. 0.]\n",
            " [0. 0. 0. 0. 1. 0.]\n",
            " [0. 0. 0. 0. 0. 1.]]\n"
          ]
        }
      ]
    },
    {
      "cell_type": "code",
      "source": [
        "identity_matrix = np.eye(3)\n",
        "print(identity_matrix)"
      ],
      "metadata": {
        "colab": {
          "base_uri": "https://localhost:8080/"
        },
        "id": "qEgkknW8jqIC",
        "outputId": "40909ef9-b103-477f-a1fe-2833e9eb22f3"
      },
      "execution_count": null,
      "outputs": [
        {
          "output_type": "stream",
          "name": "stdout",
          "text": [
            "[[1. 0. 0.]\n",
            " [0. 1. 0.]\n",
            " [0. 0. 1.]]\n"
          ]
        }
      ]
    },
    {
      "cell_type": "markdown",
      "source": [
        "Operations"
      ],
      "metadata": {
        "id": "S_IieRxDjuUC"
      }
    },
    {
      "cell_type": "markdown",
      "source": [
        "There are many, many operations which we can perform on arrays. Below, we demonstrate a few"
      ],
      "metadata": {
        "id": "AL8fGa-fjxEi"
      }
    },
    {
      "cell_type": "code",
      "source": [
        "five_table"
      ],
      "metadata": {
        "colab": {
          "base_uri": "https://localhost:8080/"
        },
        "id": "rOJIIx4Cj0gr",
        "outputId": "f2448e39-0a28-4a4f-b1a5-990c3786949e"
      },
      "execution_count": null,
      "outputs": [
        {
          "output_type": "execute_result",
          "data": {
            "text/plain": [
              "array([ 0,  5, 10, 15, 20, 25, 30, 35, 40, 45, 50, 55])"
            ]
          },
          "metadata": {},
          "execution_count": 40
        }
      ]
    },
    {
      "cell_type": "code",
      "source": [
        "print(five_table)"
      ],
      "metadata": {
        "colab": {
          "base_uri": "https://localhost:8080/"
        },
        "id": "MeYBaepaj8KM",
        "outputId": "3fca7e5a-ec34-49f8-fe20-e6a5777fdc94"
      },
      "execution_count": null,
      "outputs": [
        {
          "output_type": "stream",
          "name": "stdout",
          "text": [
            "[ 0  5 10 15 20 25 30 35 40 45 50 55]\n"
          ]
        }
      ]
    },
    {
      "cell_type": "code",
      "source": [
        "print(\"1:\", 2 * five_table)\n",
        "print(\"2:\", 10 + five_table)\n",
        "print(\"3:\", five_table - 1)\n",
        "print(\"4:\", five_table/5)\n",
        "print(\"5:\", five_table **2)\n",
        "print(\"6:\", five_table < 20)"
      ],
      "metadata": {
        "colab": {
          "base_uri": "https://localhost:8080/"
        },
        "id": "lsNVNkddkBi7",
        "outputId": "f2b54299-593b-411c-98cf-873625f5abbe"
      },
      "execution_count": null,
      "outputs": [
        {
          "output_type": "stream",
          "name": "stdout",
          "text": [
            "1: [  0  10  20  30  40  50  60  70  80  90 100 110]\n",
            "2: [10 15 20 25 30 35 40 45 50 55 60 65]\n",
            "3: [-1  4  9 14 19 24 29 34 39 44 49 54]\n",
            "4: [ 0.  1.  2.  3.  4.  5.  6.  7.  8.  9. 10. 11.]\n",
            "5: [   0   25  100  225  400  625  900 1225 1600 2025 2500 3025]\n",
            "6: [ True  True  True  True False False False False False False False False]\n"
          ]
        }
      ]
    },
    {
      "cell_type": "markdown",
      "source": [
        "Speed Test\n"
      ],
      "metadata": {
        "id": "iGQZvo8jlVrd"
      }
    },
    {
      "cell_type": "markdown",
      "source": [
        "If we compare the speed at which we can do these operations compared to core python, we will notice a substantial difference."
      ],
      "metadata": {
        "id": "hwPeiFUGla8y"
      }
    },
    {
      "cell_type": "code",
      "source": [
        "fives_list = list(range(0,50,5))\n",
        "fives_list"
      ],
      "metadata": {
        "colab": {
          "base_uri": "https://localhost:8080/"
        },
        "id": "aq6hbMsIkySL",
        "outputId": "6fe0d681-ba87-458f-cbdb-a318da721dd5"
      },
      "execution_count": null,
      "outputs": [
        {
          "output_type": "execute_result",
          "data": {
            "text/plain": [
              "[0, 5, 10, 15, 20, 25, 30, 35, 40, 45]"
            ]
          },
          "metadata": {},
          "execution_count": 44
        }
      ]
    },
    {
      "cell_type": "code",
      "source": [
        "five_list_lge=np.arange(0,40,5)\n",
        "print(five_list_lge)"
      ],
      "metadata": {
        "colab": {
          "base_uri": "https://localhost:8080/"
        },
        "id": "PMSTsnXHlc_V",
        "outputId": "c25f4f39-ee68-45ac-b950-2d478da8e0a2"
      },
      "execution_count": null,
      "outputs": [
        {
          "output_type": "stream",
          "name": "stdout",
          "text": [
            "[ 0  5 10 15 20 25 30 35]\n"
          ]
        }
      ]
    },
    {
      "cell_type": "code",
      "source": [
        "%timeit five_list_lge + 5"
      ],
      "metadata": {
        "colab": {
          "base_uri": "https://localhost:8080/"
        },
        "id": "jgds1PzSmMLM",
        "outputId": "6fe5dffc-8c95-4381-a38c-5a8c66177746"
      },
      "execution_count": null,
      "outputs": [
        {
          "output_type": "stream",
          "name": "stdout",
          "text": [
            "736 ns ± 5.5 ns per loop (mean ± std. dev. of 7 runs, 1000000 loops each)\n"
          ]
        }
      ]
    },
    {
      "cell_type": "code",
      "source": [
        "%timeit [e + 5 for e in fives_list]"
      ],
      "metadata": {
        "colab": {
          "base_uri": "https://localhost:8080/"
        },
        "id": "K2ZAtxJVm1o6",
        "outputId": "e3086301-8d54-4454-95eb-4ff6ff87ea87"
      },
      "execution_count": null,
      "outputs": [
        {
          "output_type": "stream",
          "name": "stdout",
          "text": [
            "562 ns ± 6.47 ns per loop (mean ± std. dev. of 7 runs, 1000000 loops each)\n"
          ]
        }
      ]
    },
    {
      "cell_type": "markdown",
      "source": [
        "Boolean string operations can also be performed on ndarrays."
      ],
      "metadata": {
        "id": "iFuuffkBm9aM"
      }
    },
    {
      "cell_type": "code",
      "source": [
        "words=np.array(['nine','eight','seven','six'])\n",
        "print(np.isin(words,'e'))\n",
        "\n",
        "print('e' in words)\n",
        "['e' in w for w in words]"
      ],
      "metadata": {
        "colab": {
          "base_uri": "https://localhost:8080/"
        },
        "id": "2_FvHcbUm-EK",
        "outputId": "e75824cf-6d6d-4716-a618-dd3471e504ba"
      },
      "execution_count": null,
      "outputs": [
        {
          "output_type": "stream",
          "name": "stdout",
          "text": [
            "[False False False False]\n",
            "False\n"
          ]
        },
        {
          "output_type": "execute_result",
          "data": {
            "text/plain": [
              "[True, True, True, False]"
            ]
          },
          "metadata": {},
          "execution_count": 48
        }
      ]
    },
    {
      "cell_type": "markdown",
      "source": [
        "Transpose"
      ],
      "metadata": {
        "id": "qBeef8D_odCB"
      }
    },
    {
      "cell_type": "code",
      "source": [
        "people.shape = (2, 6)\n",
        "print(people, \"\\n\")\n",
        "print(people.T)"
      ],
      "metadata": {
        "colab": {
          "base_uri": "https://localhost:8080/"
        },
        "id": "eHPVZ8yCofBL",
        "outputId": "f0e8e7c7-f06b-4387-91ba-b08de06670d3"
      },
      "execution_count": null,
      "outputs": [
        {
          "output_type": "stream",
          "name": "stdout",
          "text": [
            "[[10  5  8 32 65 43]\n",
            " [32 18 26 60 55 65]] \n",
            "\n",
            "[[10 32]\n",
            " [ 5 18]\n",
            " [ 8 26]\n",
            " [32 60]\n",
            " [65 55]\n",
            " [43 65]]\n"
          ]
        }
      ]
    },
    {
      "cell_type": "markdown",
      "source": [
        "Data Types"
      ],
      "metadata": {
        "id": "P1HIhIReqFpu"
      }
    },
    {
      "cell_type": "markdown",
      "source": [
        "As previously mentioned, ndarrays can only have one data type. If we want to obtain or change this, we use the .dtype attribute."
      ],
      "metadata": {
        "id": "UX5Q3jXoqKoh"
      }
    },
    {
      "cell_type": "code",
      "source": [
        "people.dtype"
      ],
      "metadata": {
        "colab": {
          "base_uri": "https://localhost:8080/"
        },
        "id": "pDHe3bpGqILR",
        "outputId": "ca11f122-a4c8-495f-e84e-1858642c7392"
      },
      "execution_count": null,
      "outputs": [
        {
          "output_type": "execute_result",
          "data": {
            "text/plain": [
              "dtype('int64')"
            ]
          },
          "metadata": {},
          "execution_count": 52
        }
      ]
    },
    {
      "cell_type": "markdown",
      "source": [
        "What is the data type of the below ndarray?"
      ],
      "metadata": {
        "id": "89LWiSrKqR2g"
      }
    },
    {
      "cell_type": "code",
      "source": [
        "ages_with_strings = np.array([10, 5, 8, '32', '65', '43'])\n",
        "ages_with_strings\n"
      ],
      "metadata": {
        "colab": {
          "base_uri": "https://localhost:8080/"
        },
        "id": "El1RdQpCqPbD",
        "outputId": "ec95e717-75e8-4435-8cea-68f1626da4a9"
      },
      "execution_count": null,
      "outputs": [
        {
          "output_type": "execute_result",
          "data": {
            "text/plain": [
              "array(['10', '5', '8', '32', '65', '43'], dtype='<U21')"
            ]
          },
          "metadata": {},
          "execution_count": 53
        }
      ]
    },
    {
      "cell_type": "code",
      "source": [
        "ages_with_strings = np.array([10, 5, 8, '32', '65', '43'])\n",
        "print(ages_with_strings)"
      ],
      "metadata": {
        "colab": {
          "base_uri": "https://localhost:8080/"
        },
        "id": "N-itCuL2q1jq",
        "outputId": "eb48d258-e55d-4c38-aea2-4af53f0d3152"
      },
      "execution_count": null,
      "outputs": [
        {
          "output_type": "stream",
          "name": "stdout",
          "text": [
            "['10' '5' '8' '32' '65' '43']\n"
          ]
        }
      ]
    },
    {
      "cell_type": "markdown",
      "source": [
        "What is the dtype of this array?"
      ],
      "metadata": {
        "id": "6rOdfndOqg7B"
      }
    },
    {
      "cell_type": "code",
      "source": [
        "ages_with_strings = np.array([10, 5, 8, '32', '65', '43'], dtype='int32')\n",
        "ages_with_strings"
      ],
      "metadata": {
        "colab": {
          "base_uri": "https://localhost:8080/"
        },
        "id": "wef8YLlpqkfh",
        "outputId": "2c80a865-8f5f-4df5-8ed0-9c3025a52da1"
      },
      "execution_count": null,
      "outputs": [
        {
          "output_type": "execute_result",
          "data": {
            "text/plain": [
              "array([10,  5,  8, 32, 65, 43], dtype=int32)"
            ]
          },
          "metadata": {},
          "execution_count": 58
        }
      ]
    },
    {
      "cell_type": "markdown",
      "source": [
        "What do you think has happened here?"
      ],
      "metadata": {
        "id": "XLBnxlSrqs0h"
      }
    },
    {
      "cell_type": "code",
      "source": [
        "ages_with_strings = np.array([10, 5, 8, '32', '65', '43'])\n",
        "print(ages_with_strings)"
      ],
      "metadata": {
        "colab": {
          "base_uri": "https://localhost:8080/"
        },
        "id": "WvkaHJxzqvMi",
        "outputId": "22c06352-24f1-44b7-864d-b4171c0f9c99"
      },
      "execution_count": null,
      "outputs": [
        {
          "output_type": "stream",
          "name": "stdout",
          "text": [
            "['10' '5' '8' '32' '65' '43']\n"
          ]
        }
      ]
    },
    {
      "cell_type": "code",
      "source": [
        "ages_with_strings.size"
      ],
      "metadata": {
        "colab": {
          "base_uri": "https://localhost:8080/"
        },
        "id": "rXveDumnrh75",
        "outputId": "3305d9cf-b448-4976-f998-fae2dd9064d2"
      },
      "execution_count": null,
      "outputs": [
        {
          "output_type": "execute_result",
          "data": {
            "text/plain": [
              "6"
            ]
          },
          "metadata": {},
          "execution_count": 67
        }
      ]
    },
    {
      "cell_type": "code",
      "source": [
        "ages_with_strings.dtype"
      ],
      "metadata": {
        "colab": {
          "base_uri": "https://localhost:8080/"
        },
        "id": "mOY4ovKCq7wR",
        "outputId": "90ae535f-2e3f-49fd-a723-45d8d40d90bb"
      },
      "execution_count": null,
      "outputs": [
        {
          "output_type": "execute_result",
          "data": {
            "text/plain": [
              "dtype('<U21')"
            ]
          },
          "metadata": {},
          "execution_count": 61
        }
      ]
    },
    {
      "cell_type": "code",
      "source": [
        "ages_with_strings.dtype = 'int32'\n",
        "print(ages_with_strings)"
      ],
      "metadata": {
        "colab": {
          "base_uri": "https://localhost:8080/"
        },
        "id": "3BqES-UOrHNT",
        "outputId": "c2505d9b-f666-4564-e999-f6d880a32cb5"
      },
      "execution_count": null,
      "outputs": [
        {
          "output_type": "stream",
          "name": "stdout",
          "text": [
            "[49 48  0  0  0  0  0  0  0  0  0  0  0  0  0  0  0  0  0  0  0 53  0  0\n",
            "  0  0  0  0  0  0  0  0  0  0  0  0  0  0  0  0  0  0 56  0  0  0  0  0\n",
            "  0  0  0  0  0  0  0  0  0  0  0  0  0  0  0 51 50  0  0  0  0  0  0  0\n",
            "  0  0  0  0  0  0  0  0  0  0  0  0 54 53  0  0  0  0  0  0  0  0  0  0\n",
            "  0  0  0  0  0  0  0  0  0 52 51  0  0  0  0  0  0  0  0  0  0  0  0  0\n",
            "  0  0  0  0  0  0]\n"
          ]
        }
      ]
    },
    {
      "cell_type": "code",
      "source": [
        "ages_with_strings.dtype"
      ],
      "metadata": {
        "colab": {
          "base_uri": "https://localhost:8080/"
        },
        "id": "nrsPmtBmrXux",
        "outputId": "90523210-8244-47e1-f564-2929d6128b45"
      },
      "execution_count": null,
      "outputs": [
        {
          "output_type": "execute_result",
          "data": {
            "text/plain": [
              "dtype('int32')"
            ]
          },
          "metadata": {},
          "execution_count": 69
        }
      ]
    },
    {
      "cell_type": "code",
      "source": [
        "ages_with_strings.size"
      ],
      "metadata": {
        "colab": {
          "base_uri": "https://localhost:8080/"
        },
        "id": "5zqLIY_yrXrt",
        "outputId": "da7fc679-1b01-4eaf-df64-ac8c24f4b76c"
      },
      "execution_count": null,
      "outputs": [
        {
          "output_type": "execute_result",
          "data": {
            "text/plain": [
              "126"
            ]
          },
          "metadata": {},
          "execution_count": 70
        }
      ]
    },
    {
      "cell_type": "code",
      "source": [
        "ages_with_strings.size/21"
      ],
      "metadata": {
        "colab": {
          "base_uri": "https://localhost:8080/"
        },
        "id": "zeYq3w83rpQV",
        "outputId": "ea6456ed-f1fb-40df-cb9e-8295c7fa56e3"
      },
      "execution_count": null,
      "outputs": [
        {
          "output_type": "execute_result",
          "data": {
            "text/plain": [
              "6.0"
            ]
          },
          "metadata": {},
          "execution_count": 71
        }
      ]
    },
    {
      "cell_type": "code",
      "source": [
        "np.array([10, 5, 8, '32', '65', '43']).size"
      ],
      "metadata": {
        "colab": {
          "base_uri": "https://localhost:8080/"
        },
        "id": "bnmmmyuyrpOx",
        "outputId": "245e147f-9dd6-42a0-b6aa-88f4a12699b3"
      },
      "execution_count": null,
      "outputs": [
        {
          "output_type": "execute_result",
          "data": {
            "text/plain": [
              "6"
            ]
          },
          "metadata": {},
          "execution_count": 72
        }
      ]
    },
    {
      "cell_type": "markdown",
      "source": [
        "The correct way to have changed the data type of the ndarray would have been to use the .astype() method, demonstrated below."
      ],
      "metadata": {
        "id": "oZX6GXQrr0eR"
      }
    },
    {
      "cell_type": "code",
      "source": [
        "ages_with_string=np.array([10,5,8,'32','65','43'])\n",
        "print(ages_with_string)\n",
        "print(ages_with_string.astype('int32'))"
      ],
      "metadata": {
        "colab": {
          "base_uri": "https://localhost:8080/"
        },
        "id": "kssUnPL-r5PM",
        "outputId": "8ac4e7f2-b20e-44f9-b15c-6f700fb471d6"
      },
      "execution_count": null,
      "outputs": [
        {
          "output_type": "stream",
          "name": "stdout",
          "text": [
            "['10' '5' '8' '32' '65' '43']\n",
            "[10  5  8 32 65 43]\n"
          ]
        }
      ]
    },
    {
      "cell_type": "markdown",
      "source": [
        "Exercise"
      ],
      "metadata": {
        "id": "-vbc6KQdu_N4"
      }
    },
    {
      "cell_type": "markdown",
      "source": [
        "Create an array of string numbers, but use dtype to make it an array of floats"
      ],
      "metadata": {
        "id": "uvejNlQGu_99"
      }
    },
    {
      "cell_type": "code",
      "source": [
        "string_array=np.array(['20','30','40','50','60'],dtype='float32')\n",
        "string_array\n"
      ],
      "metadata": {
        "colab": {
          "base_uri": "https://localhost:8080/"
        },
        "id": "tBUs9Z76vNUr",
        "outputId": "2b2f1c82-23ee-4541-8137-4ae3014546d5"
      },
      "execution_count": null,
      "outputs": [
        {
          "output_type": "execute_result",
          "data": {
            "text/plain": [
              "array([20., 30., 40., 50., 60.], dtype=float32)"
            ]
          },
          "metadata": {},
          "execution_count": 75
        }
      ]
    },
    {
      "cell_type": "code",
      "source": [
        "string_array=np.array(['20','30','40','50','60'],dtype='float32')\n",
        "print(string_array)\n"
      ],
      "metadata": {
        "colab": {
          "base_uri": "https://localhost:8080/"
        },
        "id": "F1pPTAkwwRB4",
        "outputId": "f6587588-d3da-4581-fe89-9817e0212204"
      },
      "execution_count": null,
      "outputs": [
        {
          "output_type": "stream",
          "name": "stdout",
          "text": [
            "[20. 30. 40. 50. 60.]\n"
          ]
        }
      ]
    },
    {
      "cell_type": "markdown",
      "source": [
        "Transpose the matrix, printing the new size and shape."
      ],
      "metadata": {
        "id": "YfDmWe8zwWDY"
      }
    },
    {
      "cell_type": "code",
      "source": [
        "string_array.shape=(1,5)\n",
        "print(string_array,'\\n')\n",
        "print(string_array.T)\n",
        "print(string_array.size)"
      ],
      "metadata": {
        "colab": {
          "base_uri": "https://localhost:8080/"
        },
        "id": "HvC3wPPjz2OQ",
        "outputId": "2f9ce358-7d14-48c7-f16c-583a8f605974"
      },
      "execution_count": null,
      "outputs": [
        {
          "output_type": "stream",
          "name": "stdout",
          "text": [
            "[[20. 30. 40. 50. 60.]] \n",
            "\n",
            "[[20.]\n",
            " [30.]\n",
            " [40.]\n",
            " [50.]\n",
            " [60.]]\n",
            "5\n"
          ]
        }
      ]
    },
    {
      "cell_type": "markdown",
      "source": [
        "Use the .astype() method to convert the array to boolean."
      ],
      "metadata": {
        "id": "sa5Cosrj0i4Q"
      }
    },
    {
      "cell_type": "code",
      "source": [
        "print(string_array)\n",
        "print(string_array.astype('bool'))"
      ],
      "metadata": {
        "colab": {
          "base_uri": "https://localhost:8080/"
        },
        "id": "RfN-JVCP0oGJ",
        "outputId": "bd9fd2b9-20b5-4c71-bd3c-aa35e5a47f25"
      },
      "execution_count": null,
      "outputs": [
        {
          "output_type": "stream",
          "name": "stdout",
          "text": [
            "[[20. 30. 40. 50. 60.]]\n",
            "[[ True  True  True  True  True]]\n"
          ]
        }
      ]
    },
    {
      "cell_type": "markdown",
      "source": [
        "Array Slicing Operations"
      ],
      "metadata": {
        "id": "syqv8sNb1Pm8"
      }
    },
    {
      "cell_type": "markdown",
      "source": [
        "As before, we can use square brackets and indices to access individual values, and the colon operator to slice the array."
      ],
      "metadata": {
        "id": "IMMLfbn01Scw"
      }
    },
    {
      "cell_type": "code",
      "source": [
        "fives_list"
      ],
      "metadata": {
        "colab": {
          "base_uri": "https://localhost:8080/"
        },
        "id": "6qis6LzI1U2q",
        "outputId": "32a17854-8f8e-4839-d876-9364fafcc9e0"
      },
      "execution_count": null,
      "outputs": [
        {
          "output_type": "execute_result",
          "data": {
            "text/plain": [
              "[0, 5, 10, 15, 20, 25, 30, 35, 40, 45]"
            ]
          },
          "metadata": {},
          "execution_count": 80
        }
      ]
    },
    {
      "cell_type": "code",
      "source": [
        "fives_list[0]"
      ],
      "metadata": {
        "colab": {
          "base_uri": "https://localhost:8080/"
        },
        "id": "sQfLkxnp12t_",
        "outputId": "2a0f3710-d55d-4ad2-fe83-0249f0a9b4af"
      },
      "execution_count": null,
      "outputs": [
        {
          "output_type": "execute_result",
          "data": {
            "text/plain": [
              "0"
            ]
          },
          "metadata": {},
          "execution_count": 81
        }
      ]
    },
    {
      "cell_type": "code",
      "source": [
        "fives_list[-1]"
      ],
      "metadata": {
        "colab": {
          "base_uri": "https://localhost:8080/"
        },
        "id": "8gl3TJdG151e",
        "outputId": "518dc16f-c598-44e1-fd3f-a54d4e6a2151"
      },
      "execution_count": null,
      "outputs": [
        {
          "output_type": "execute_result",
          "data": {
            "text/plain": [
              "45"
            ]
          },
          "metadata": {},
          "execution_count": 82
        }
      ]
    },
    {
      "cell_type": "code",
      "source": [
        "fives_list[:4]"
      ],
      "metadata": {
        "colab": {
          "base_uri": "https://localhost:8080/"
        },
        "id": "mCC_RD-519_q",
        "outputId": "0466401d-43ac-4dde-fa7c-c192587b2c35"
      },
      "execution_count": null,
      "outputs": [
        {
          "output_type": "execute_result",
          "data": {
            "text/plain": [
              "[0, 5, 10, 15]"
            ]
          },
          "metadata": {},
          "execution_count": 83
        }
      ]
    },
    {
      "cell_type": "code",
      "source": [
        "fives_list[4:]"
      ],
      "metadata": {
        "colab": {
          "base_uri": "https://localhost:8080/"
        },
        "id": "ehxF_ZLl2DkP",
        "outputId": "51849e0a-4221-44f9-cd32-b99996df34b0"
      },
      "execution_count": null,
      "outputs": [
        {
          "output_type": "execute_result",
          "data": {
            "text/plain": [
              "[20, 25, 30, 35, 40, 45]"
            ]
          },
          "metadata": {},
          "execution_count": 84
        }
      ]
    },
    {
      "cell_type": "markdown",
      "source": [
        "We can also slice an n-dim ndarray., specifying the slice operation accross each axis."
      ],
      "metadata": {
        "id": "l_m19V9n2J6U"
      }
    },
    {
      "cell_type": "code",
      "source": [
        "print(people)\n",
        "print(people[:3,:3])"
      ],
      "metadata": {
        "colab": {
          "base_uri": "https://localhost:8080/"
        },
        "id": "tUcFBVwz2HjJ",
        "outputId": "0265c308-e955-4445-effd-5c592b58a7f9"
      },
      "execution_count": null,
      "outputs": [
        {
          "output_type": "stream",
          "name": "stdout",
          "text": [
            "[[10  5  8 32 65 43]\n",
            " [32 18 26 60 55 65]]\n",
            "[[10  5  8]\n",
            " [32 18 26]]\n"
          ]
        }
      ]
    },
    {
      "cell_type": "markdown",
      "source": [
        "Exercise"
      ],
      "metadata": {
        "id": "UolmFa6a2b0M"
      }
    },
    {
      "cell_type": "markdown",
      "source": [
        "Create a numpy array with 50 zeros"
      ],
      "metadata": {
        "id": "DAHLfjFR2ic5"
      }
    },
    {
      "cell_type": "code",
      "source": [
        "\n",
        "zeroarr=np.zeros(50)\n",
        "print(zeroarr)"
      ],
      "metadata": {
        "colab": {
          "base_uri": "https://localhost:8080/"
        },
        "id": "86blFpXG2hlZ",
        "outputId": "dde86f1b-04c1-4a9f-db0b-3d38b912923c"
      },
      "execution_count": null,
      "outputs": [
        {
          "output_type": "stream",
          "name": "stdout",
          "text": [
            "[0. 0. 0. 0. 0. 0. 0. 0. 0. 0. 0. 0. 0. 0. 0. 0. 0. 0. 0. 0. 0. 0. 0. 0.\n",
            " 0. 0. 0. 0. 0. 0. 0. 0. 0. 0. 0. 0. 0. 0. 0. 0. 0. 0. 0. 0. 0. 0. 0. 0.\n",
            " 0. 0.]\n"
          ]
        }
      ]
    },
    {
      "cell_type": "markdown",
      "source": [
        "Create a np array of 2 repeated 20 times"
      ],
      "metadata": {
        "id": "KIZbeLbx47Jp"
      }
    },
    {
      "cell_type": "code",
      "source": [
        "twoarrr=np.repeat(2,21)\n",
        "print(twoarrr)"
      ],
      "metadata": {
        "colab": {
          "base_uri": "https://localhost:8080/"
        },
        "id": "AaXcKksY477J",
        "outputId": "2bfc37d0-e347-4300-c6b9-fa4f30f51ea7"
      },
      "execution_count": null,
      "outputs": [
        {
          "output_type": "stream",
          "name": "stdout",
          "text": [
            "[2 2 2 2 2 2 2 2 2 2 2 2 2 2 2 2 2 2 2 2 2]\n"
          ]
        }
      ]
    },
    {
      "cell_type": "markdown",
      "source": [
        "Create a numpy array from 0 to 2 pi  in steps of 0.1"
      ],
      "metadata": {
        "id": "CrG0h0-z5OdZ"
      }
    },
    {
      "cell_type": "code",
      "source": [
        "z=np.arange(0,2*3.141,0.1)\n",
        "print(z)"
      ],
      "metadata": {
        "colab": {
          "base_uri": "https://localhost:8080/"
        },
        "id": "04I0bknN5XSH",
        "outputId": "4de3e8fc-28f4-4c28-b43f-4d7e62f7eb98"
      },
      "execution_count": null,
      "outputs": [
        {
          "output_type": "stream",
          "name": "stdout",
          "text": [
            "[0.  0.1 0.2 0.3 0.4 0.5 0.6 0.7 0.8 0.9 1.  1.1 1.2 1.3 1.4 1.5 1.6 1.7\n",
            " 1.8 1.9 2.  2.1 2.2 2.3 2.4 2.5 2.6 2.7 2.8 2.9 3.  3.1 3.2 3.3 3.4 3.5\n",
            " 3.6 3.7 3.8 3.9 4.  4.1 4.2 4.3 4.4 4.5 4.6 4.7 4.8 4.9 5.  5.1 5.2 5.3\n",
            " 5.4 5.5 5.6 5.7 5.8 5.9 6.  6.1 6.2]\n"
          ]
        }
      ]
    },
    {
      "cell_type": "markdown",
      "source": [
        "Get the first five values"
      ],
      "metadata": {
        "id": "vCuXxYq48FaM"
      }
    },
    {
      "cell_type": "code",
      "source": [
        "four_list=np.arange(0,40,4)\n",
        "print(four_list)"
      ],
      "metadata": {
        "colab": {
          "base_uri": "https://localhost:8080/"
        },
        "id": "PtAgHoAX7jjY",
        "outputId": "e05d1729-acad-4153-f838-0903a5fd9f4a"
      },
      "execution_count": null,
      "outputs": [
        {
          "output_type": "stream",
          "name": "stdout",
          "text": [
            "[ 0  4  8 12 16 20 24 28 32 36]\n"
          ]
        }
      ]
    },
    {
      "cell_type": "code",
      "source": [
        "print(four_list[:5])\n"
      ],
      "metadata": {
        "colab": {
          "base_uri": "https://localhost:8080/"
        },
        "id": "Y3edEf5679vh",
        "outputId": "592cbf68-42b3-430c-87ca-2c46f253a325"
      },
      "execution_count": null,
      "outputs": [
        {
          "output_type": "stream",
          "name": "stdout",
          "text": [
            "[ 0  4  8 12 16]\n"
          ]
        }
      ]
    },
    {
      "cell_type": "markdown",
      "source": [
        "Get the last 3 values"
      ],
      "metadata": {
        "id": "GaNRPcrK8Xot"
      }
    },
    {
      "cell_type": "code",
      "source": [
        "four_list[-3]"
      ],
      "metadata": {
        "colab": {
          "base_uri": "https://localhost:8080/"
        },
        "id": "gEe_8SUn8Z1X",
        "outputId": "7b238dfd-9a66-4409-e9cb-594723a018f9"
      },
      "execution_count": null,
      "outputs": [
        {
          "output_type": "execute_result",
          "data": {
            "text/plain": [
              "28"
            ]
          },
          "metadata": {},
          "execution_count": 105
        }
      ]
    },
    {
      "cell_type": "markdown",
      "source": [
        "Get the 4th value to the 7th value"
      ],
      "metadata": {
        "id": "DdDm35Gu8gJZ"
      }
    },
    {
      "cell_type": "code",
      "source": [
        "print(four_list[4:7])"
      ],
      "metadata": {
        "colab": {
          "base_uri": "https://localhost:8080/"
        },
        "id": "-iP30BrT8iT-",
        "outputId": "98cbf43c-9b28-4ded-ad5b-3de0f181b4e3"
      },
      "execution_count": null,
      "outputs": [
        {
          "output_type": "stream",
          "name": "stdout",
          "text": [
            "[16 20 24]\n"
          ]
        }
      ]
    },
    {
      "cell_type": "markdown",
      "source": [
        "We can reverse an array by using .flip() or by using the :: operator."
      ],
      "metadata": {
        "id": "UFT6VjAm8rvm"
      }
    },
    {
      "cell_type": "code",
      "source": [
        "print(fives_list)\n",
        "reverse_fives_list=np.flip(fives_list)\n",
        "print(reverse_fives_list)\n"
      ],
      "metadata": {
        "colab": {
          "base_uri": "https://localhost:8080/"
        },
        "id": "Rt4gQy6C8ulA",
        "outputId": "758d3227-c262-456e-cfbd-6ffaca80d6e2"
      },
      "execution_count": null,
      "outputs": [
        {
          "output_type": "stream",
          "name": "stdout",
          "text": [
            "[0, 5, 10, 15, 20, 25, 30, 35, 40, 45]\n",
            "[45 40 35 30 25 20 15 10  5  0]\n"
          ]
        }
      ]
    },
    {
      "cell_type": "code",
      "source": [
        "print(fives_list)\n",
        "reverse_fives_list=fives_list[-1::-1]\n",
        "print(reverse_fives_list)"
      ],
      "metadata": {
        "colab": {
          "base_uri": "https://localhost:8080/"
        },
        "id": "2Q3gWKJS9HPm",
        "outputId": "d5760eb8-8c61-45b2-b46c-a54e0ba4ce50"
      },
      "execution_count": null,
      "outputs": [
        {
          "output_type": "stream",
          "name": "stdout",
          "text": [
            "[0, 5, 10, 15, 20, 25, 30, 35, 40, 45]\n",
            "[45, 40, 35, 30, 25, 20, 15, 10, 5, 0]\n"
          ]
        }
      ]
    },
    {
      "cell_type": "markdown",
      "source": [
        "We can also use the :: operator to select steps of the original array."
      ],
      "metadata": {
        "id": "_t_TpzF29Fte"
      }
    },
    {
      "cell_type": "code",
      "source": [
        "fives_list[0::3]"
      ],
      "metadata": {
        "colab": {
          "base_uri": "https://localhost:8080/"
        },
        "id": "NBcZT70l9cw4",
        "outputId": "677bccc9-9dee-4ae5-a919-fca585d8a413"
      },
      "execution_count": null,
      "outputs": [
        {
          "output_type": "execute_result",
          "data": {
            "text/plain": [
              "[0, 15, 30, 45]"
            ]
          },
          "metadata": {},
          "execution_count": 110
        }
      ]
    },
    {
      "cell_type": "markdown",
      "source": [
        "Exercise"
      ],
      "metadata": {
        "id": "XLORDdOP9rsr"
      }
    },
    {
      "cell_type": "markdown",
      "source": [
        "Take one of the arrays you defined and Reverse it"
      ],
      "metadata": {
        "id": "PMORotGv9t7v"
      }
    },
    {
      "cell_type": "code",
      "source": [
        "print(four_list)\n",
        "reverse_four_list=np.flip(four_list)\n",
        "print(reverse_four_list)\n"
      ],
      "metadata": {
        "colab": {
          "base_uri": "https://localhost:8080/"
        },
        "id": "YCoSaOqk90MY",
        "outputId": "f32b0776-aa28-4b1c-bc05-2870b76e86c1"
      },
      "execution_count": null,
      "outputs": [
        {
          "output_type": "stream",
          "name": "stdout",
          "text": [
            "[ 0  4  8 12 16 20 24 28 32 36]\n",
            "[36 32 28 24 20 16 12  8  4  0]\n"
          ]
        }
      ]
    },
    {
      "cell_type": "markdown",
      "source": [
        " Only keep every 4th element."
      ],
      "metadata": {
        "id": "uI464Wjj-KGJ"
      }
    },
    {
      "cell_type": "code",
      "source": [
        "print(four_list)\n",
        "four_list[4::4]"
      ],
      "metadata": {
        "colab": {
          "base_uri": "https://localhost:8080/"
        },
        "id": "OuueLPr5-MIp",
        "outputId": "2e9c8aee-9217-469a-dacc-3a7056fcdf80"
      },
      "execution_count": null,
      "outputs": [
        {
          "output_type": "stream",
          "name": "stdout",
          "text": [
            "[ 0  4  8 12 16 20 24 28 32 36]\n"
          ]
        },
        {
          "output_type": "execute_result",
          "data": {
            "text/plain": [
              "array([16, 32])"
            ]
          },
          "metadata": {},
          "execution_count": 112
        }
      ]
    },
    {
      "cell_type": "markdown",
      "source": [
        "Get every 2nd element, starting from the last and moving backwards."
      ],
      "metadata": {
        "id": "wc6G-gpe-dSP"
      }
    },
    {
      "cell_type": "code",
      "source": [
        "print(four_list)\n",
        "print(four_list[-2::-2])"
      ],
      "metadata": {
        "colab": {
          "base_uri": "https://localhost:8080/"
        },
        "id": "u97mkVRI-gCo",
        "outputId": "1f6198a7-1eaf-449b-f170-faa1abec43f0"
      },
      "execution_count": null,
      "outputs": [
        {
          "output_type": "stream",
          "name": "stdout",
          "text": [
            "[ 0  4  8 12 16 20 24 28 32 36]\n",
            "[32 24 16  8  0]\n"
          ]
        }
      ]
    },
    {
      "cell_type": "markdown",
      "source": [
        "Stats"
      ],
      "metadata": {
        "id": "58vTPAm8_x9p"
      }
    },
    {
      "cell_type": "code",
      "source": [
        "np.array([1.65432, 5.98765]).round(2)"
      ],
      "metadata": {
        "colab": {
          "base_uri": "https://localhost:8080/"
        },
        "id": "UbzAFEAw_2y6",
        "outputId": "60e1d661-6089-4f70-cd74-7c83032370d6"
      },
      "execution_count": null,
      "outputs": [
        {
          "output_type": "execute_result",
          "data": {
            "text/plain": [
              "array([1.65, 5.99])"
            ]
          },
          "metadata": {},
          "execution_count": 117
        }
      ]
    },
    {
      "cell_type": "code",
      "source": [
        "nums = np.arange(0, 4, 0.2555)\n",
        "print(nums)"
      ],
      "metadata": {
        "colab": {
          "base_uri": "https://localhost:8080/"
        },
        "id": "LwuP99F0_78X",
        "outputId": "04054579-56a9-4ae4-fdb7-4c4c8bab0d14"
      },
      "execution_count": null,
      "outputs": [
        {
          "output_type": "stream",
          "name": "stdout",
          "text": [
            "[0.     0.2555 0.511  0.7665 1.022  1.2775 1.533  1.7885 2.044  2.2995\n",
            " 2.555  2.8105 3.066  3.3215 3.577  3.8325]\n"
          ]
        }
      ]
    },
    {
      "cell_type": "markdown",
      "source": [
        "Exercise\n",
        "\n",
        "Compute min, max, sum, mean, median, variance, and standard deviation of the above array, all to to 2 decimal places."
      ],
      "metadata": {
        "id": "0hvX0uRJADiP"
      }
    },
    {
      "cell_type": "code",
      "source": [
        "print(\"min = \", np.min(nums).round(2))\n",
        "print(\"max = \", np.max(nums).round(2))\n",
        "print(\"sum = \", np.sum(nums).round(2))\n",
        "print(\"mean = \", np.mean(nums).round(2))\n",
        "print(\"median = \", np.median(nums).round(2))\n",
        "print(\"var = \", np.var(nums).round(2))\n",
        "print(\"std = \", np.std(nums).round(2))"
      ],
      "metadata": {
        "colab": {
          "base_uri": "https://localhost:8080/"
        },
        "id": "TaF3Z3AZAHuH",
        "outputId": "3c4926b8-be8f-4ed9-e83d-55fb3486f360"
      },
      "execution_count": null,
      "outputs": [
        {
          "output_type": "stream",
          "name": "stdout",
          "text": [
            "min =  0.0\n",
            "max =  3.83\n",
            "sum =  30.66\n",
            "mean =  1.92\n",
            "median =  1.92\n",
            "var =  1.39\n",
            "std =  1.18\n"
          ]
        }
      ]
    },
    {
      "cell_type": "markdown",
      "source": [
        "Random\n",
        "\n",
        "With np.random, we can generate a number of types of dataset, and create training data."
      ],
      "metadata": {
        "id": "xLrH9iD8APFn"
      }
    },
    {
      "cell_type": "markdown",
      "source": [
        "The below code simulates a fair coin toss."
      ],
      "metadata": {
        "id": "py7zXkM8AXOv"
      }
    },
    {
      "cell_type": "code",
      "source": [
        "flip = np.random.choice([0,1], 10)\n",
        "flip\n"
      ],
      "metadata": {
        "colab": {
          "base_uri": "https://localhost:8080/"
        },
        "id": "rZI4rqoDAVA6",
        "outputId": "ca3a187a-ddc1-4849-f4b6-c658d8d2c0de"
      },
      "execution_count": null,
      "outputs": [
        {
          "output_type": "execute_result",
          "data": {
            "text/plain": [
              "array([0, 0, 0, 0, 0, 1, 1, 0, 0, 1])"
            ]
          },
          "metadata": {},
          "execution_count": 125
        }
      ]
    },
    {
      "cell_type": "code",
      "source": [
        "np.random.rand(10,20,9)"
      ],
      "metadata": {
        "colab": {
          "base_uri": "https://localhost:8080/"
        },
        "id": "ZKi05vyYAzGp",
        "outputId": "74a0fdfb-22ad-4cfc-8307-494932dbf4a8"
      },
      "execution_count": null,
      "outputs": [
        {
          "output_type": "execute_result",
          "data": {
            "text/plain": [
              "array([[[8.91230740e-01, 1.24775909e-01, 6.64905395e-01, ...,\n",
              "         5.46692523e-01, 4.73262745e-01, 8.10702432e-01],\n",
              "        [8.92332871e-01, 1.41317408e-01, 1.52338738e-01, ...,\n",
              "         1.49462262e-01, 8.78540087e-01, 3.36949727e-01],\n",
              "        [5.74406423e-01, 5.21175738e-01, 1.70363591e-01, ...,\n",
              "         9.81596621e-01, 7.85398593e-01, 6.34754829e-01],\n",
              "        ...,\n",
              "        [9.16377965e-01, 3.77723903e-01, 4.10846587e-01, ...,\n",
              "         4.81377566e-01, 8.43289965e-01, 2.46279444e-01],\n",
              "        [2.04090833e-01, 4.23115027e-01, 6.15338985e-01, ...,\n",
              "         1.07514258e-01, 6.03353475e-01, 1.85050585e-01],\n",
              "        [7.86663963e-01, 5.78995660e-01, 9.82029951e-01, ...,\n",
              "         6.80629606e-01, 5.96185519e-01, 4.54944200e-01]],\n",
              "\n",
              "       [[9.44693150e-01, 8.09268926e-01, 7.56337489e-01, ...,\n",
              "         2.42498929e-01, 7.64191838e-01, 6.26553297e-01],\n",
              "        [3.24839259e-01, 5.56948472e-01, 2.09231757e-01, ...,\n",
              "         7.68466519e-01, 4.66331452e-02, 4.37462749e-01],\n",
              "        [9.55297858e-01, 2.14861925e-01, 3.33465164e-01, ...,\n",
              "         5.44379642e-01, 2.22383774e-01, 5.61042778e-01],\n",
              "        ...,\n",
              "        [2.77800193e-01, 6.11559038e-01, 3.46540311e-01, ...,\n",
              "         8.21007374e-01, 8.37681692e-01, 8.59420726e-01],\n",
              "        [4.48995913e-01, 5.60179220e-01, 5.00474637e-01, ...,\n",
              "         5.79227959e-01, 9.45440058e-01, 8.42992738e-01],\n",
              "        [3.08117103e-01, 6.31982799e-01, 9.63217672e-01, ...,\n",
              "         1.09726258e-01, 9.25707107e-01, 9.53590243e-01]],\n",
              "\n",
              "       [[1.26599426e-01, 5.35426043e-01, 6.79292305e-01, ...,\n",
              "         4.66458877e-01, 1.07083152e-01, 7.84373917e-01],\n",
              "        [8.61102990e-01, 9.33262227e-01, 1.42394317e-01, ...,\n",
              "         2.65474655e-01, 9.89441577e-01, 1.16482214e-01],\n",
              "        [3.81444529e-01, 8.64777146e-01, 2.53855247e-01, ...,\n",
              "         4.19276090e-01, 2.96434318e-01, 4.41230198e-01],\n",
              "        ...,\n",
              "        [8.80821473e-01, 1.54165729e-01, 6.06734550e-01, ...,\n",
              "         1.80642552e-01, 9.28709794e-04, 3.35076936e-01],\n",
              "        [7.70180887e-03, 3.21567037e-01, 3.82182672e-01, ...,\n",
              "         8.03867114e-02, 9.20627659e-01, 6.77412615e-01],\n",
              "        [3.94536333e-01, 9.91717187e-01, 4.10445038e-01, ...,\n",
              "         5.58688727e-01, 3.42525702e-01, 3.08645946e-01]],\n",
              "\n",
              "       ...,\n",
              "\n",
              "       [[7.43312179e-01, 5.38053923e-01, 6.55241196e-02, ...,\n",
              "         3.46699330e-01, 2.51120162e-01, 6.14157593e-01],\n",
              "        [3.82218878e-01, 6.24497684e-01, 9.78858563e-01, ...,\n",
              "         2.34865895e-02, 1.55337215e-01, 9.66019681e-01],\n",
              "        [1.12784459e-01, 4.70622113e-01, 4.60400259e-01, ...,\n",
              "         9.31787381e-01, 4.67952180e-01, 2.92383298e-01],\n",
              "        ...,\n",
              "        [7.94762088e-01, 2.00261043e-01, 2.47195340e-01, ...,\n",
              "         7.78158459e-01, 4.03561639e-01, 9.80250449e-01],\n",
              "        [2.41677315e-01, 9.34874958e-01, 6.07918881e-02, ...,\n",
              "         5.63209779e-02, 6.42609587e-01, 3.87134415e-01],\n",
              "        [4.75514772e-01, 1.47876795e-01, 5.44886950e-01, ...,\n",
              "         3.65587636e-01, 8.84192003e-01, 5.01506749e-01]],\n",
              "\n",
              "       [[2.45847702e-01, 9.61382025e-01, 2.57907619e-01, ...,\n",
              "         6.00550434e-02, 8.51801305e-01, 1.57631181e-01],\n",
              "        [9.60992445e-01, 7.17984564e-02, 8.72228069e-01, ...,\n",
              "         5.33467738e-02, 6.79321178e-02, 8.18530667e-01],\n",
              "        [7.95090563e-02, 9.56631789e-01, 6.30588474e-01, ...,\n",
              "         7.08286055e-01, 8.27417386e-02, 6.94917939e-01],\n",
              "        ...,\n",
              "        [9.44665893e-01, 3.83483112e-01, 3.45748790e-01, ...,\n",
              "         9.57074089e-01, 9.76217810e-01, 8.57959741e-01],\n",
              "        [7.54297254e-01, 2.22340390e-01, 3.94825437e-02, ...,\n",
              "         3.57373543e-01, 1.45729929e-01, 9.57063019e-04],\n",
              "        [5.94606469e-01, 2.81677354e-01, 8.30110848e-01, ...,\n",
              "         9.74764841e-01, 1.23825127e-01, 6.38703299e-01]],\n",
              "\n",
              "       [[7.66005976e-01, 2.70320087e-02, 2.35807307e-01, ...,\n",
              "         3.65451330e-01, 6.55251812e-01, 4.47334191e-01],\n",
              "        [6.75473006e-01, 8.36098797e-01, 6.06373256e-01, ...,\n",
              "         4.68495974e-01, 4.72826688e-01, 6.92016331e-01],\n",
              "        [4.73489242e-01, 5.55937187e-01, 8.58531155e-01, ...,\n",
              "         6.63665660e-01, 3.23526788e-01, 2.61254514e-01],\n",
              "        ...,\n",
              "        [4.26964114e-01, 6.64498616e-01, 8.49038045e-01, ...,\n",
              "         4.90262615e-02, 4.49792145e-01, 6.82404898e-01],\n",
              "        [7.45298175e-01, 6.70232123e-01, 9.62813424e-01, ...,\n",
              "         7.31107868e-02, 9.87556200e-01, 5.18674384e-01],\n",
              "        [2.33289750e-01, 4.54017679e-01, 6.21431911e-01, ...,\n",
              "         4.86928827e-01, 2.12518826e-03, 4.86937988e-01]]])"
            ]
          },
          "metadata": {},
          "execution_count": 126
        }
      ]
    },
    {
      "cell_type": "markdown",
      "source": [
        "We can produce 1000 datapoints of a normally distributed data set by using np.random.normal()"
      ],
      "metadata": {
        "id": "r41n3ZipA3pf"
      }
    },
    {
      "cell_type": "code",
      "source": [
        "mu, sigma = 0, 0.1 # mean and standard deviation\n",
        "s = np.random.normal(mu, sigma, 1000)\n"
      ],
      "metadata": {
        "id": "OqEU-nwjA60e"
      },
      "execution_count": null,
      "outputs": []
    },
    {
      "cell_type": "markdown",
      "source": [
        "Exercise"
      ],
      "metadata": {
        "id": "Qbnn3D3VBHLF"
      }
    },
    {
      "cell_type": "markdown",
      "source": [
        "Simulate a six-sided dice using numpy.random.choice(), generate a list of values you would obtain from 10 throws."
      ],
      "metadata": {
        "id": "EzzTeXIhBIFh"
      }
    },
    {
      "cell_type": "code",
      "source": [
        "dice_throw=np.random.choice([1,6],10)\n",
        "print(dice_throw)"
      ],
      "metadata": {
        "colab": {
          "base_uri": "https://localhost:8080/"
        },
        "id": "uqhfORoOBU9Y",
        "outputId": "bbb1ab8f-3e6f-4ff5-ddab-5c1720b61739"
      },
      "execution_count": null,
      "outputs": [
        {
          "output_type": "stream",
          "name": "stdout",
          "text": [
            "[6 1 6 1 6 1 1 1 1 6]\n"
          ]
        }
      ]
    },
    {
      "cell_type": "markdown",
      "source": [
        "Simulate a two-sided coin toss that is NOT fair: it is twice as likely to have head than tails."
      ],
      "metadata": {
        "id": "3lfHBwuKBisY"
      }
    },
    {
      "cell_type": "code",
      "source": [
        "coin_throw = np.random.choice(['Head',\"Head\",'Tail'],2)\n",
        "print(coin_throw)"
      ],
      "metadata": {
        "colab": {
          "base_uri": "https://localhost:8080/"
        },
        "id": "kUXt5eOQBjl3",
        "outputId": "f635f3b4-9e4e-414b-96b5-cdc02f19446d"
      },
      "execution_count": null,
      "outputs": [
        {
          "output_type": "stream",
          "name": "stdout",
          "text": [
            "['Tail' 'Head']\n"
          ]
        }
      ]
    }
  ]
}