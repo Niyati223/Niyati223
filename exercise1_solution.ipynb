{
  "nbformat": 4,
  "nbformat_minor": 0,
  "metadata": {
    "colab": {
      "provenance": [],
      "collapsed_sections": [],
      "authorship_tag": "ABX9TyMcu0bv8588BEkW70CKQAuU",
      "include_colab_link": true
    },
    "kernelspec": {
      "name": "python3",
      "display_name": "Python 3"
    },
    "language_info": {
      "name": "python"
    }
  },
  "cells": [
    {
      "cell_type": "markdown",
      "metadata": {
        "id": "view-in-github",
        "colab_type": "text"
      },
      "source": [
        "<a href=\"https://colab.research.google.com/github/Niyati223/Niyati223/blob/main/exercise1_solution.ipynb\" target=\"_parent\"><img src=\"https://colab.research.google.com/assets/colab-badge.svg\" alt=\"Open In Colab\"/></a>"
      ]
    },
    {
      "cell_type": "markdown",
      "source": [
        "1. Write a program to iterate the first 10 numbers and in each iteration, print the sum of the current and previous number."
      ],
      "metadata": {
        "id": "ThAXU5jEWe9w"
      }
    },
    {
      "cell_type": "code",
      "execution_count": 1,
      "metadata": {
        "colab": {
          "base_uri": "https://localhost:8080/"
        },
        "id": "mweraT0RWXjL",
        "outputId": "c8ef9e86-d395-496a-9fe4-dde630bd297a"
      },
      "outputs": [
        {
          "output_type": "stream",
          "name": "stdout",
          "text": [
            "printing the sum of current and previous number in the range(10)\n",
            "current_num 0 prev_num 0 sum: 0\n",
            "current_num 1 prev_num 0 sum: 1\n",
            "current_num 2 prev_num 1 sum: 3\n",
            "current_num 3 prev_num 2 sum: 5\n",
            "current_num 4 prev_num 3 sum: 7\n",
            "current_num 5 prev_num 4 sum: 9\n",
            "current_num 6 prev_num 5 sum: 11\n",
            "current_num 7 prev_num 6 sum: 13\n",
            "current_num 8 prev_num 7 sum: 15\n",
            "current_num 9 prev_num 8 sum: 17\n"
          ]
        }
      ],
      "source": [
        "print('printing the sum of current and previous number in the range(10)')\n",
        "prev_num=0\n",
        "for i in range(0,10):\n",
        "  a_sum=prev_num+i\n",
        "  print('current_num',i,'prev_num',prev_num,'sum:', prev_num+i)\n",
        "  prev_num=i\n"
      ]
    },
    {
      "cell_type": "markdown",
      "source": [
        "2. Write a program to accept a string from the user and display characters that are present at an even index number."
      ],
      "metadata": {
        "id": "c-jg8yFqWo9e"
      }
    },
    {
      "cell_type": "code",
      "source": [
        "word = 'niyatig'\n",
        "print(\"Original String:\", word)\n",
        "x = list(word)\n",
        "for i in x[0::2]:\n",
        "    print(i)\n"
      ],
      "metadata": {
        "colab": {
          "base_uri": "https://localhost:8080/"
        },
        "id": "ZSMCNzjaWr3J",
        "outputId": "dd99ced1-a6a1-42e8-8606-bdc3fd3008d2"
      },
      "execution_count": 3,
      "outputs": [
        {
          "output_type": "stream",
          "name": "stdout",
          "text": [
            "Original String: niyatig\n",
            "n\n",
            "y\n",
            "t\n",
            "g\n"
          ]
        }
      ]
    },
    {
      "cell_type": "markdown",
      "source": [
        "3. Iterate the given list of numbers and print only those numbers which are divisible by 5"
      ],
      "metadata": {
        "id": "k3as7ecOXCsG"
      }
    },
    {
      "cell_type": "code",
      "source": [
        "num=[10,20,46,55,33]\n",
        "print('givenlist:',num)\n",
        "print('divisible by 5:')\n",
        "for i in num:\n",
        "  if i%5==0:\n",
        "    print(i)"
      ],
      "metadata": {
        "colab": {
          "base_uri": "https://localhost:8080/"
        },
        "id": "430BUt3GXJka",
        "outputId": "0ba512d7-d9b2-4df4-c9c0-1bee4d9ef22e"
      },
      "execution_count": 4,
      "outputs": [
        {
          "output_type": "stream",
          "name": "stdout",
          "text": [
            "givenlist: [10, 20, 46, 55, 33]\n",
            "divisible by 5:\n",
            "10\n",
            "20\n",
            "55\n"
          ]
        }
      ]
    },
    {
      "cell_type": "markdown",
      "source": [
        "4. Write a program to check if the given number is a palindrome number."
      ],
      "metadata": {
        "id": "OSaPV7wcXNXe"
      }
    },
    {
      "cell_type": "code",
      "source": [
        "num=545\n",
        "temp=num\n",
        "rev=0\n",
        "while(num>0):\n",
        "    dig=num%10\n",
        "    rev=rev*10+dig\n",
        "    num=num//10\n",
        "if(temp==rev):\n",
        "    print(\"The number is palindrome!\")\n",
        "else:\n",
        "    print(\"Not a palindrome!\")"
      ],
      "metadata": {
        "colab": {
          "base_uri": "https://localhost:8080/"
        },
        "id": "JXA9u6x3XWzo",
        "outputId": "aba10c0f-153e-4498-dbbe-75a2e448b5d4"
      },
      "execution_count": 5,
      "outputs": [
        {
          "output_type": "stream",
          "name": "stdout",
          "text": [
            "The number is palindrome!\n"
          ]
        }
      ]
    },
    {
      "cell_type": "markdown",
      "source": [
        "5. Given a two list of numbers, write a program to create a new list such that the new list should contain odd numbers from the first list and even numbers from the second list."
      ],
      "metadata": {
        "id": "rkAX-9RMXbCP"
      }
    },
    {
      "cell_type": "code",
      "source": [
        "list1=[11,22,34,57,44]\n",
        "listOdd= []\n",
        "listEven= []\n",
        "for num in list1:\n",
        "  if num%2==0:\n",
        "    listEven.append(num)\n",
        "  else:\n",
        "    listOdd.append(num)\n",
        "print('list1 :', list1)\n",
        "print('listEven :',listEven)\n",
        "print('listOdd :',listOdd)"
      ],
      "metadata": {
        "colab": {
          "base_uri": "https://localhost:8080/"
        },
        "id": "KQQTWtLhXeJj",
        "outputId": "3137713a-0a2b-4378-976f-6173d6cbe0fe"
      },
      "execution_count": 6,
      "outputs": [
        {
          "output_type": "stream",
          "name": "stdout",
          "text": [
            "list1 : [11, 22, 34, 57, 44]\n",
            "listEven : [22, 34, 44]\n",
            "listOdd : [11, 57]\n"
          ]
        }
      ]
    },
    {
      "cell_type": "markdown",
      "source": [
        "6. Write a Program to extract each digit from an integer in the reverse order."
      ],
      "metadata": {
        "id": "Br6NVKunXjUv"
      }
    },
    {
      "cell_type": "code",
      "source": [
        "number = 7536\n",
        "print(\"Given number\", number)\n",
        "while number > 0:\n",
        "  digit = number % 10\n",
        "  number = number // 10\n",
        "  print(digit, end=\" \")"
      ],
      "metadata": {
        "colab": {
          "base_uri": "https://localhost:8080/"
        },
        "id": "CnYUmZ-rXmhQ",
        "outputId": "c3d37e86-ec0e-481f-8667-3ca5e6f67f49"
      },
      "execution_count": 7,
      "outputs": [
        {
          "output_type": "stream",
          "name": "stdout",
          "text": [
            "Given number 7536\n",
            "6 3 5 7 "
          ]
        }
      ]
    },
    {
      "cell_type": "markdown",
      "source": [
        "7. Print multiplication table form 1 to 10"
      ],
      "metadata": {
        "id": "a5b_IARpXqAG"
      }
    },
    {
      "cell_type": "code",
      "source": [
        "for i in range(1, 11):\n",
        "    for j in range(1, 11):\n",
        "        print(i * j, end=\" \")\n",
        "    print(\"\\t\\t\")"
      ],
      "metadata": {
        "colab": {
          "base_uri": "https://localhost:8080/"
        },
        "id": "nqGQR31RXs9u",
        "outputId": "79724135-f112-428c-e8cf-1be06fd7c1fb"
      },
      "execution_count": 8,
      "outputs": [
        {
          "output_type": "stream",
          "name": "stdout",
          "text": [
            "1 2 3 4 5 6 7 8 9 10 \t\t\n",
            "2 4 6 8 10 12 14 16 18 20 \t\t\n",
            "3 6 9 12 15 18 21 24 27 30 \t\t\n",
            "4 8 12 16 20 24 28 32 36 40 \t\t\n",
            "5 10 15 20 25 30 35 40 45 50 \t\t\n",
            "6 12 18 24 30 36 42 48 54 60 \t\t\n",
            "7 14 21 28 35 42 49 56 63 70 \t\t\n",
            "8 16 24 32 40 48 56 64 72 80 \t\t\n",
            "9 18 27 36 45 54 63 72 81 90 \t\t\n",
            "10 20 30 40 50 60 70 80 90 100 \t\t\n"
          ]
        }
      ]
    },
    {
      "cell_type": "markdown",
      "source": [
        "8. Write a program to print downward Half-Pyramid Pattern with Star (asterisk)\n",
        "\n"
      ],
      "metadata": {
        "id": "OPpiQFPrXwru"
      }
    },
    {
      "cell_type": "code",
      "source": [
        "for i in range(6, 0, -1):\n",
        "    for j in range(0, i - 1):\n",
        "        print(\"*\", end=' ')\n",
        "    print(\" \")"
      ],
      "metadata": {
        "colab": {
          "base_uri": "https://localhost:8080/"
        },
        "id": "DPLqSxPHX2t2",
        "outputId": "82406cf7-db19-47a1-e197-ab6853c895c0"
      },
      "execution_count": 9,
      "outputs": [
        {
          "output_type": "stream",
          "name": "stdout",
          "text": [
            "* * * * *  \n",
            "* * * *  \n",
            "* * *  \n",
            "* *  \n",
            "*  \n",
            " \n"
          ]
        }
      ]
    }
  ]
}