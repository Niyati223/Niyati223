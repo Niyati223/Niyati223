{
  "nbformat": 4,
  "nbformat_minor": 0,
  "metadata": {
    "colab": {
      "provenance": [],
      "collapsed_sections": [],
      "authorship_tag": "ABX9TyNTBuOu2m7JShHgYfCsgd8E",
      "include_colab_link": true
    },
    "kernelspec": {
      "name": "python3",
      "display_name": "Python 3"
    },
    "language_info": {
      "name": "python"
    }
  },
  "cells": [
    {
      "cell_type": "markdown",
      "metadata": {
        "id": "view-in-github",
        "colab_type": "text"
      },
      "source": [
        "<a href=\"https://colab.research.google.com/github/Niyati223/Niyati223/blob/main/lambdafunction.ipynb\" target=\"_parent\"><img src=\"https://colab.research.google.com/assets/colab-badge.svg\" alt=\"Open In Colab\"/></a>"
      ]
    },
    {
      "cell_type": "markdown",
      "source": [
        "Write a Python program to create a lambda function that adds 15 to a given number passed in as an argument, also create a lambda function that multiplies argument x with argument y and print the result."
      ],
      "metadata": {
        "id": "2kPTiEk_kRCu"
      }
    },
    {
      "cell_type": "code",
      "source": [
        "s=lambda a:a+15\n",
        "print(s(10))\n",
        "n=lambda x,y:x*y\n",
        "print(n(12,4))"
      ],
      "metadata": {
        "colab": {
          "base_uri": "https://localhost:8080/"
        },
        "id": "Z_Q0tJ_5kaEu",
        "outputId": "34566fe6-1959-4c77-968d-d2d9a8ba3429"
      },
      "execution_count": 1,
      "outputs": [
        {
          "output_type": "stream",
          "name": "stdout",
          "text": [
            "25\n",
            "48\n"
          ]
        }
      ]
    },
    {
      "cell_type": "markdown",
      "source": [
        "Write a Python program to extract PRESENT year, month, date and time using Lambda."
      ],
      "metadata": {
        "id": "EqF8sZ9zl5ue"
      }
    },
    {
      "cell_type": "code",
      "source": [
        "\n",
        "import datetime\n",
        "now= datetime.datetime.now()\n",
        "print(now)\n",
        "year = lambda x: x.year\n",
        "month = lambda x: x.month\n",
        "day = lambda x: x.day\n",
        "time = lambda x: x.time()\n",
        "print('Year - ',year(now))\n",
        "print('Month - ',month(now))\n",
        "print('Day - ',day(now))\n",
        "print('time - ',time(now))"
      ],
      "metadata": {
        "colab": {
          "base_uri": "https://localhost:8080/"
        },
        "id": "Wi9E4B0rl9ee",
        "outputId": "edeff899-0274-4996-d383-242fb4609a77"
      },
      "execution_count": 12,
      "outputs": [
        {
          "output_type": "stream",
          "name": "stdout",
          "text": [
            "2022-09-20 11:24:16.423711\n",
            "Year -  2022\n",
            "Month -  9\n",
            "Day -  20\n",
            "time -  11:24:16.423711\n"
          ]
        }
      ]
    },
    {
      "cell_type": "markdown",
      "source": [
        "3.Write a Python program that sum the length of the names of a given list of names after removing the names that starts with a lowercase letter. Use lambda function."
      ],
      "metadata": {
        "id": "7dOIcarKoWZ2"
      }
    },
    {
      "cell_type": "code",
      "source": [
        "names=['Sameer','Niyati','kulkarni','galagali']\n",
        "names=list(filter(lambda a:a[0].isupper() and a[1:].islower(),names ))\n",
        "print('r=')\n",
        "print(len(''.join(names)))"
      ],
      "metadata": {
        "colab": {
          "base_uri": "https://localhost:8080/"
        },
        "id": "TxPYmLAroZrF",
        "outputId": "7d26f82d-2eb5-41e8-c90a-877a76e4a90c"
      },
      "execution_count": 16,
      "outputs": [
        {
          "output_type": "stream",
          "name": "stdout",
          "text": [
            "r=\n",
            "12\n"
          ]
        }
      ]
    },
    {
      "cell_type": "markdown",
      "source": [
        "Write a Python program to extract specified size of strings from a give list of string values using lambda"
      ],
      "metadata": {
        "id": "Grgkcg2csN-O"
      }
    },
    {
      "cell_type": "code",
      "source": [
        "def extract_string(str_list1, l):\n",
        "    result = list(filter(lambda e: len(e) == l, str_list1))\n",
        "    return result\n",
        "\n",
        "str_list1 = ['icecream', 'list', 'chocolate', 'chips', 'cookies'] \n",
        "print(\"Original list:\")\n",
        "print(str_list1)\n",
        "l=5\n",
        "print(\"\\nlength of the string to extract:\")\n",
        "print(l)\n",
        "print(\"\\nAfter extracting strings of specified length from the said list:\")\n",
        "print(extract_string(str_list1,l))"
      ],
      "metadata": {
        "colab": {
          "base_uri": "https://localhost:8080/"
        },
        "id": "PyWjgm5ZscFO",
        "outputId": "fde77d84-de53-443b-8622-fc1bd86acb08"
      },
      "execution_count": 33,
      "outputs": [
        {
          "output_type": "stream",
          "name": "stdout",
          "text": [
            "Original list:\n",
            "['icecream', 'list', 'chocolate', 'chips', 'cookies']\n",
            "\n",
            "length of the string to extract:\n",
            "5\n",
            "\n",
            "After extracting strings of specified length from the said list:\n",
            "['chips']\n"
          ]
        }
      ]
    },
    {
      "cell_type": "markdown",
      "source": [
        "5. Write a Python program to find the elements of a given list of strings that contain specific substring using lambda.\n"
      ],
      "metadata": {
        "id": "Z3bXd2u_1VI3"
      }
    },
    {
      "cell_type": "code",
      "source": [
        "def substring(str1, sub_str):\n",
        "    result = list(filter(lambda x: sub_str in x, str1))\n",
        "    return result\n",
        "colors = [\"red\", \"black\", \"white\", \"green\", \"orange\"]\n",
        "print(\"Original list:\")\n",
        "print(colors)\n",
        "\n",
        "sub_str = \"ack\"\n",
        "print(\"\\nSubstring to search:\")\n",
        "print(sub_str)\n",
        "print(\"Elements of the said list that contain specific substring:\")\n",
        "print(substring(colors, sub_str))\n",
        "sub_str = \"abc\"\n",
        "print(\"\\nSubstring to search:\")\n",
        "print(sub_str)\n",
        "print(\"Elements of the said list that contain specific substring:\")\n",
        "print(substring(colors, sub_str))\n"
      ],
      "metadata": {
        "colab": {
          "base_uri": "https://localhost:8080/"
        },
        "id": "UqVOZLRj1a9j",
        "outputId": "e7039230-83ad-40c9-cd5d-ad8d6b438cb7"
      },
      "execution_count": 32,
      "outputs": [
        {
          "output_type": "stream",
          "name": "stdout",
          "text": [
            "Original list:\n",
            "['red', 'black', 'white', 'green', 'orange']\n",
            "\n",
            "Substring to search:\n",
            "ack\n",
            "Elements of the said list that contain specific substring:\n",
            "['black']\n",
            "\n",
            "Substring to search:\n",
            "abc\n",
            "Elements of the said list that contain specific substring:\n",
            "[]\n"
          ]
        }
      ]
    }
  ]
}