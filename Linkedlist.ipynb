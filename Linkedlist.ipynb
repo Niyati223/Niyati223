{
  "nbformat": 4,
  "nbformat_minor": 0,
  "metadata": {
    "colab": {
      "provenance": [],
      "collapsed_sections": [],
      "authorship_tag": "ABX9TyNKTWDO0dzX7aKOChi3Bt8f",
      "include_colab_link": true
    },
    "kernelspec": {
      "name": "python3",
      "display_name": "Python 3"
    },
    "language_info": {
      "name": "python"
    }
  },
  "cells": [
    {
      "cell_type": "markdown",
      "metadata": {
        "id": "view-in-github",
        "colab_type": "text"
      },
      "source": [
        "<a href=\"https://colab.research.google.com/github/Niyati223/Niyati223/blob/main/Linkedlist.ipynb\" target=\"_parent\"><img src=\"https://colab.research.google.com/assets/colab-badge.svg\" alt=\"Open In Colab\"/></a>"
      ]
    },
    {
      "cell_type": "markdown",
      "source": [
        "Design a linked list, where every node contains\n",
        "firstname,lastname, hobby and phone number."
      ],
      "metadata": {
        "id": "pSgTmWqL8g7H"
      }
    },
    {
      "cell_type": "code",
      "execution_count": null,
      "metadata": {
        "id": "u0HBGsD48bFk"
      },
      "outputs": [],
      "source": [
        "class LinkedList:\n",
        "    def __init__(self):\n",
        "        self.head = None\n",
        "\n",
        "class Node:\n",
        "    def __init__(self, data):\n",
        "        self.data = data\n",
        "        self.next = None\n",
        "first_node = Node(\"Niyati\")\n",
        "second_node = Node(\"galagali\")\n",
        "third_node = Node(\"painting\")\n",
        "fourth_node=Node('9647934950')\n",
        "\n",
        "l_list = LinkedList()\n",
        "\n",
        "l_list.head = first_node\n",
        "first_node.next = second_node\n",
        "second_node.next = third_node\n",
        "third_node.next=fourth_node\n",
        "\n",
        "string_repr = \"\"\n",
        "node = l_list.head\n",
        "\n",
        "while node is not None:\n",
        "    string_repr += node.data\n",
        "    string_repr += \" \\n \"\n",
        "    node = node.next\n",
        "#string_repr += \"None\"\n",
        "\n",
        "\n",
        "\n"
      ]
    },
    {
      "cell_type": "code",
      "source": [
        "print(string_repr)"
      ],
      "metadata": {
        "colab": {
          "base_uri": "https://localhost:8080/"
        },
        "id": "mmQzlbedEEdk",
        "outputId": "888ce747-f8dd-488f-84b8-7760c2618e28"
      },
      "execution_count": null,
      "outputs": [
        {
          "output_type": "stream",
          "name": "stdout",
          "text": [
            "Niyati \n",
            " galagali \n",
            " painting \n",
            " 9647934950 \n",
            " \n"
          ]
        }
      ]
    },
    {
      "cell_type": "code",
      "source": [
        "#add new element\n",
        "\n",
        "class node:\n",
        "  def __init__(self,info):\n",
        "    self.info=info\n",
        "    self.next=None\n",
        "\n",
        "class LinkedList:\n",
        "  def __init__(self):\n",
        "    self.head=None\n",
        "  def print(self):\n",
        "    current=self.head\n",
        "    while(current):\n",
        "      print(current.info)\n",
        "      current=current.next\n",
        "\n",
        "list1=LinkedList()\n",
        "\n",
        "list1.head=node('first name:Alice')\n",
        "second_node=node('last name:x')\n",
        "third_node=node('hobby:dancing')\n",
        "fourth_node=node('phonenumber:9886455634')\n",
        "\n",
        "list1.head.next=second_node\n",
        "second_node.next=third_node\n",
        "third_node.next=fourth_node\n",
        "\n",
        "\n"
      ],
      "metadata": {
        "id": "eVgOgQjuAOwT"
      },
      "execution_count": null,
      "outputs": []
    },
    {
      "cell_type": "code",
      "source": [
        "list1.print()"
      ],
      "metadata": {
        "colab": {
          "base_uri": "https://localhost:8080/"
        },
        "id": "Pfu_80koCq57",
        "outputId": "6e86d8ac-4456-49d8-de29-f6f9304ffde2"
      },
      "execution_count": null,
      "outputs": [
        {
          "output_type": "stream",
          "name": "stdout",
          "text": [
            "first name:Alice\n",
            "last name:x\n",
            "hobby:dancing\n",
            "phonenumber:9886455634\n"
          ]
        }
      ]
    },
    {
      "cell_type": "code",
      "source": [],
      "metadata": {
        "id": "ty68i1UqEQmz"
      },
      "execution_count": null,
      "outputs": []
    }
  ]
}