{
  "nbformat": 4,
  "nbformat_minor": 0,
  "metadata": {
    "colab": {
      "provenance": [],
      "collapsed_sections": [],
      "authorship_tag": "ABX9TyNisrTW+bfA6rsHxcdyNV+t",
      "include_colab_link": true
    },
    "kernelspec": {
      "name": "python3",
      "display_name": "Python 3"
    },
    "language_info": {
      "name": "python"
    }
  },
  "cells": [
    {
      "cell_type": "markdown",
      "metadata": {
        "id": "view-in-github",
        "colab_type": "text"
      },
      "source": [
        "<a href=\"https://colab.research.google.com/github/Niyati223/Niyati223/blob/main/functions.ipynb\" target=\"_parent\"><img src=\"https://colab.research.google.com/assets/colab-badge.svg\" alt=\"Open In Colab\"/></a>"
      ]
    },
    {
      "cell_type": "markdown",
      "source": [
        "1.Create a function in such a way that we can pass any number of arguments to this function, and the function should process them and display each argument’s value "
      ],
      "metadata": {
        "id": "AWMQZ4pLMEzC"
      }
    },
    {
      "cell_type": "code",
      "execution_count": 1,
      "metadata": {
        "id": "lYOnrG7UAr24"
      },
      "outputs": [],
      "source": [
        "def display(a,*b):\n",
        "  print('a=',a,'b=',b)\n",
        "  \n",
        "\n"
      ]
    },
    {
      "cell_type": "code",
      "source": [
        "display(1,2,3,4,5,6)"
      ],
      "metadata": {
        "colab": {
          "base_uri": "https://localhost:8080/"
        },
        "id": "GeS9d8IeNtjA",
        "outputId": "4083639f-500e-473d-879a-cea94f763f41"
      },
      "execution_count": 2,
      "outputs": [
        {
          "output_type": "stream",
          "name": "stdout",
          "text": [
            "a= 1 b= (2, 3, 4, 5, 6)\n"
          ]
        }
      ]
    },
    {
      "cell_type": "markdown",
      "source": [
        "2.Write a program to create function calculation() such that it can accept two variables and calculate addition and subtraction. Also, it must return both addition and subtraction in a single return call. "
      ],
      "metadata": {
        "id": "3K46VaBsN0r1"
      }
    },
    {
      "cell_type": "code",
      "source": [
        "def calculation(x,y):\n",
        "  c=x+y\n",
        "  c1=x-y\n",
        "  return c,c1\n"
      ],
      "metadata": {
        "id": "-pNjHjwPN6YA"
      },
      "execution_count": 5,
      "outputs": []
    },
    {
      "cell_type": "code",
      "source": [
        "calculation(5,4)"
      ],
      "metadata": {
        "colab": {
          "base_uri": "https://localhost:8080/"
        },
        "id": "be6U7jDNOTPU",
        "outputId": "0c238403-383d-424d-9a5a-3ee93f0913d7"
      },
      "execution_count": 6,
      "outputs": [
        {
          "output_type": "execute_result",
          "data": {
            "text/plain": [
              "(9, 1)"
            ]
          },
          "metadata": {},
          "execution_count": 6
        }
      ]
    },
    {
      "cell_type": "markdown",
      "source": [
        "3.Write a program to create a function show_employee() using the following conditions. \n",
        "\n",
        "A)It should accept the employee’s name and salary and display both. \n",
        "\n",
        "B)If the salary is missing in the function call then assign default value 9000 to salary "
      ],
      "metadata": {
        "id": "JXoaV_4dPJGt"
      }
    },
    {
      "cell_type": "code",
      "source": [
        "def show_employee(name, salary=9000):\n",
        "    print(\"Name:\", name, \"salary:\", salary)"
      ],
      "metadata": {
        "id": "7Ec9WHXdQ0lk"
      },
      "execution_count": 12,
      "outputs": []
    },
    {
      "cell_type": "code",
      "source": [
        "show_employee(\"Benjamin\", 12000)\n",
        "show_employee(\"Tessa\")"
      ],
      "metadata": {
        "colab": {
          "base_uri": "https://localhost:8080/"
        },
        "id": "ZvS5B4raQ2Gs",
        "outputId": "6b6217a0-4ae6-4042-f4c0-62c497c9c1df"
      },
      "execution_count": 14,
      "outputs": [
        {
          "output_type": "stream",
          "name": "stdout",
          "text": [
            "Name: Benjamin salary: 12000\n",
            "Name: Tessa salary: 9000\n"
          ]
        }
      ]
    },
    {
      "cell_type": "markdown",
      "source": [
        "4.Create an outer function that will accept two parameters, a and b,   Create an inner function inside an outer function that will calculate the addition of a and b,  At last, an outer function will add 5 into addition and return it "
      ],
      "metadata": {
        "id": "sextewW1RCqP"
      }
    },
    {
      "cell_type": "code",
      "source": [
        "def outer_fun(a, b):\n",
        "    square = a ** 2\n",
        "\n",
        "    # inner function\n",
        "    def addition(a, b):\n",
        "        return a + b\n",
        "\n",
        "    # call inner function from outer function\n",
        "    add = addition(a, b)\n",
        "    # add 5 to the result\n",
        "    return add + 5\n",
        "\n",
        "result = outer_fun(5, 10)\n",
        "print(result)"
      ],
      "metadata": {
        "colab": {
          "base_uri": "https://localhost:8080/"
        },
        "id": "6dVy78oGSlfl",
        "outputId": "eadba682-1948-46ed-adcd-dc9e18a6e123"
      },
      "execution_count": 20,
      "outputs": [
        {
          "output_type": "stream",
          "name": "stdout",
          "text": [
            "20\n"
          ]
        }
      ]
    }
  ]
}