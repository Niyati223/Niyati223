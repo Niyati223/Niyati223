{
  "nbformat": 4,
  "nbformat_minor": 0,
  "metadata": {
    "colab": {
      "provenance": [],
      "collapsed_sections": [],
      "authorship_tag": "ABX9TyPTSQGNZMx7hton+7hlrLMb",
      "include_colab_link": true
    },
    "kernelspec": {
      "name": "python3",
      "display_name": "Python 3"
    },
    "language_info": {
      "name": "python"
    }
  },
  "cells": [
    {
      "cell_type": "markdown",
      "metadata": {
        "id": "view-in-github",
        "colab_type": "text"
      },
      "source": [
        "<a href=\"https://colab.research.google.com/github/Niyati223/Niyati223/blob/main/file_handling_exercise.ipynb\" target=\"_parent\"><img src=\"https://colab.research.google.com/assets/colab-badge.svg\" alt=\"Open In Colab\"/></a>"
      ]
    },
    {
      "cell_type": "markdown",
      "source": [
        "1.Implement a program to write a list into a file"
      ],
      "metadata": {
        "id": "V9Hgmawh7qFc"
      }
    },
    {
      "cell_type": "code",
      "source": [
        "%%writefile xyz.txt\n",
        "color=['Red', 'Green', 'White', 'Black', 'Pink', 'Yellow']"
      ],
      "metadata": {
        "colab": {
          "base_uri": "https://localhost:8080/"
        },
        "id": "yBPIzeNj-RL6",
        "outputId": "d567a3f2-36e0-4a76-a117-48383490c458"
      },
      "execution_count": 15,
      "outputs": [
        {
          "output_type": "stream",
          "name": "stdout",
          "text": [
            "Overwriting xyz.txt\n"
          ]
        }
      ]
    },
    {
      "cell_type": "code",
      "source": [
        "with open('xyz.txt', \"w\") as myfile:\n",
        "        for c in color:\n",
        "                myfile.write(\"%s\\n\" % c)\n",
        "\n"
      ],
      "metadata": {
        "id": "wq4iELI39FDZ"
      },
      "execution_count": 21,
      "outputs": []
    },
    {
      "cell_type": "code",
      "source": [
        "res= open('xyz.txt')\n",
        "print(res.read())"
      ],
      "metadata": {
        "colab": {
          "base_uri": "https://localhost:8080/"
        },
        "id": "_RWIzrH9-sX6",
        "outputId": "78f6c98a-931d-4095-a959-bff225263efc"
      },
      "execution_count": 20,
      "outputs": [
        {
          "output_type": "stream",
          "name": "stdout",
          "text": [
            "Red\n",
            "Green\n",
            "White\n",
            "Black\n",
            "Pink\n",
            "Yellow\n",
            "\n"
          ]
        }
      ]
    },
    {
      "cell_type": "markdown",
      "source": [
        "2.Implement a program to read random line from a file containing lines of data in it(using random library)"
      ],
      "metadata": {
        "id": "oUQwlkNS_AJE"
      }
    },
    {
      "cell_type": "code",
      "source": [
        "import random\n",
        "def rad(f):\n",
        "  lines=open(f).read().splitlines()\n",
        "  return random.choice(lines)\n"
      ],
      "metadata": {
        "id": "Ox9MKv4X_BML"
      },
      "execution_count": 24,
      "outputs": []
    },
    {
      "cell_type": "code",
      "source": [
        "print(rad('xyz.txt'))"
      ],
      "metadata": {
        "colab": {
          "base_uri": "https://localhost:8080/"
        },
        "id": "aGdyz_-6A1QM",
        "outputId": "d57be5eb-3f87-462b-c649-a20758f38523"
      },
      "execution_count": 25,
      "outputs": [
        {
          "output_type": "stream",
          "name": "stdout",
          "text": [
            "Red\n"
          ]
        }
      ]
    },
    {
      "cell_type": "code",
      "source": [],
      "metadata": {
        "id": "suLeluVOA-Fx"
      },
      "execution_count": null,
      "outputs": []
    }
  ]
}