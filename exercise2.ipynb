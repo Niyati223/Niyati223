{
  "nbformat": 4,
  "nbformat_minor": 0,
  "metadata": {
    "colab": {
      "provenance": [],
      "collapsed_sections": [],
      "authorship_tag": "ABX9TyMdNYrDNB/xazSMRGjFd4yz",
      "include_colab_link": true
    },
    "kernelspec": {
      "name": "python3",
      "display_name": "Python 3"
    },
    "language_info": {
      "name": "python"
    }
  },
  "cells": [
    {
      "cell_type": "markdown",
      "metadata": {
        "id": "view-in-github",
        "colab_type": "text"
      },
      "source": [
        "<a href=\"https://colab.research.google.com/github/Niyati223/Niyati223/blob/main/exercise2.ipynb\" target=\"_parent\"><img src=\"https://colab.research.google.com/assets/colab-badge.svg\" alt=\"Open In Colab\"/></a>"
      ]
    },
    {
      "cell_type": "markdown",
      "source": [
        "1.Write a program to take three names as input from a user in the single input() function call."
      ],
      "metadata": {
        "id": "qVx2AaZqb-AH"
      }
    },
    {
      "cell_type": "code",
      "execution_count": 1,
      "metadata": {
        "colab": {
          "base_uri": "https://localhost:8080/"
        },
        "id": "FFgE4hpdbjJq",
        "outputId": "065aaf91-cdae-4fba-b522-2a78ab0e49ff"
      },
      "outputs": [
        {
          "output_type": "stream",
          "name": "stdout",
          "text": [
            "enter the three names:niyati vinay galagali\n",
            "enter your firstname: niyati\n",
            "enter your middle name : vinay\n",
            "enter your last name: galagali\n"
          ]
        }
      ],
      "source": [
        "a,b,c=input('enter the three names:').split()\n",
        "print('enter your firstname:',a)\n",
        "print('enter your middle name :',b)\n",
        "print('enter your last name:',c)"
      ]
    },
    {
      "cell_type": "markdown",
      "source": [
        "2. Write a program to print the following number pattern using a loop. "
      ],
      "metadata": {
        "id": "OmiyRO2CdFTm"
      }
    },
    {
      "cell_type": "code",
      "source": [
        "rows=int(input('enter the number of rows:'))\n",
        "for i in range(1,rows+1):\n",
        "  for j in range(1,i+1):\n",
        "    print(j,end=' ')\n",
        "  print(' ')\n"
      ],
      "metadata": {
        "colab": {
          "base_uri": "https://localhost:8080/"
        },
        "id": "FQLQH5fZdkPW",
        "outputId": "4873c1f2-1f85-4564-9c4b-f908735b5d7a"
      },
      "execution_count": 2,
      "outputs": [
        {
          "output_type": "stream",
          "name": "stdout",
          "text": [
            "enter the number of rows:5\n",
            "1  \n",
            "1 2  \n",
            "1 2 3  \n",
            "1 2 3 4  \n",
            "1 2 3 4 5  \n"
          ]
        }
      ]
    },
    {
      "cell_type": "markdown",
      "source": [
        "3. Write a program to accept a number from a user and calculate the sum of all numbers from 1 to a given number"
      ],
      "metadata": {
        "id": "rfRssqiueHQV"
      }
    },
    {
      "cell_type": "code",
      "source": [
        "n=int(input('enter the number:'))\n",
        "sum=0\n",
        "for num in range(1,n+1,1):\n",
        "  sum=sum+num\n",
        "print('sum of numbers is :' , sum)"
      ],
      "metadata": {
        "colab": {
          "base_uri": "https://localhost:8080/"
        },
        "id": "6E-wcEA-eK4o",
        "outputId": "883eb362-c903-4870-a83e-d89f6e6d1839"
      },
      "execution_count": 3,
      "outputs": [
        {
          "output_type": "stream",
          "name": "stdout",
          "text": [
            "enter the number:5\n",
            "sum of numbers is : 15\n"
          ]
        }
      ]
    },
    {
      "cell_type": "markdown",
      "source": [
        "4. Print list in reverse order using a loop "
      ],
      "metadata": {
        "id": "TmPRaEFKfTcV"
      }
    },
    {
      "cell_type": "code",
      "source": [
        "original_list=[1,2,3,4,5,6,7,8,9,10]\n",
        "reversed_list=list()\n",
        "for v in original_list:\n",
        "  reversed_list=[v] + reversed_list\n",
        "print(reversed_list)\n"
      ],
      "metadata": {
        "colab": {
          "base_uri": "https://localhost:8080/"
        },
        "id": "mIhcb8HcfW7v",
        "outputId": "42de7593-c8d7-4b2a-82d3-3e882a68ae49"
      },
      "execution_count": 4,
      "outputs": [
        {
          "output_type": "stream",
          "name": "stdout",
          "text": [
            "[10, 9, 8, 7, 6, 5, 4, 3, 2, 1]\n"
          ]
        }
      ]
    },
    {
      "cell_type": "markdown",
      "source": [
        "5. Write a program to display all prime numbers within a range "
      ],
      "metadata": {
        "id": "sY0aOb_MgrRV"
      }
    },
    {
      "cell_type": "code",
      "source": [
        "min = int(input(\"Enter the min : \"))\n",
        "max = int(input(\"Enter the max : \"))\n",
        "for n in range(min,max + 1):\n",
        "   if n > 1:\n",
        "       for i in range(2,n):\n",
        "           if (n % i) == 0:\n",
        "               break\n",
        "       else:\n",
        "           print(n)"
      ],
      "metadata": {
        "colab": {
          "base_uri": "https://localhost:8080/"
        },
        "id": "qycFY001g-x-",
        "outputId": "94d532f8-7bae-4f41-b762-a1f93401572e"
      },
      "execution_count": 5,
      "outputs": [
        {
          "output_type": "stream",
          "name": "stdout",
          "text": [
            "Enter the min : 1\n",
            "Enter the max : 10\n",
            "2\n",
            "3\n",
            "5\n",
            "7\n"
          ]
        }
      ]
    },
    {
      "cell_type": "markdown",
      "source": [
        "6. Find the factorial of a given number without using math module "
      ],
      "metadata": {
        "id": "JHFYXr3xhKLk"
      }
    },
    {
      "cell_type": "code",
      "source": [
        "n=5\n",
        "fact=1\n",
        "i=1\n",
        "while i <=n:\n",
        "  fact=fact * i\n",
        "  i=i+1\n",
        "print('factorial of {0} is {1}'.format(n,fact))"
      ],
      "metadata": {
        "colab": {
          "base_uri": "https://localhost:8080/"
        },
        "id": "u-sFPanZhM8U",
        "outputId": "795ca4e2-a6ec-41c3-ab23-bfd040e53c6c"
      },
      "execution_count": 29,
      "outputs": [
        {
          "output_type": "stream",
          "name": "stdout",
          "text": [
            "factorial of 5 is 120\n"
          ]
        }
      ]
    },
    {
      "cell_type": "markdown",
      "source": [
        "7. Print the following pattern \n",
        "\n",
        "\n",
        " "
      ],
      "metadata": {
        "id": "O3G_QPEKh30n"
      }
    },
    {
      "cell_type": "code",
      "source": [
        "rows=int(input('enter the rows:'))\n",
        "for i in range(0,rows):\n",
        "  for j in range(0,i+1):\n",
        "    print('*',end=' ')\n",
        "  print('')\n",
        "#second pattern\n",
        "for i in range(rows+1,0,-1):\n",
        "  for j in range(0,i-1):\n",
        "    print('*',end=' ')\n",
        "  print(' ')"
      ],
      "metadata": {
        "colab": {
          "base_uri": "https://localhost:8080/"
        },
        "id": "_lqsxd6Vh-UH",
        "outputId": "2590f470-0d8a-48f1-fbaa-7e7d5d1b8c6a"
      },
      "execution_count": 10,
      "outputs": [
        {
          "output_type": "stream",
          "name": "stdout",
          "text": [
            "enter the rows:4\n",
            "* \n",
            "* * \n",
            "* * * \n",
            "* * * * \n",
            "* * * *  \n",
            "* * *  \n",
            "* *  \n",
            "*  \n",
            " \n"
          ]
        }
      ]
    }
  ]
}