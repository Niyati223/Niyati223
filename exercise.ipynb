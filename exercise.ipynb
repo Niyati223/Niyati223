{
  "nbformat": 4,
  "nbformat_minor": 0,
  "metadata": {
    "colab": {
      "provenance": [],
      "collapsed_sections": [],
      "authorship_tag": "ABX9TyMFdXMrSRYY5G/ku7pHgaaS",
      "include_colab_link": true
    },
    "kernelspec": {
      "name": "python3",
      "display_name": "Python 3"
    },
    "language_info": {
      "name": "python"
    }
  },
  "cells": [
    {
      "cell_type": "markdown",
      "metadata": {
        "id": "view-in-github",
        "colab_type": "text"
      },
      "source": [
        "<a href=\"https://colab.research.google.com/github/Niyati223/Niyati223/blob/main/exercise.ipynb\" target=\"_parent\"><img src=\"https://colab.research.google.com/assets/colab-badge.svg\" alt=\"Open In Colab\"/></a>"
      ]
    },
    {
      "cell_type": "markdown",
      "source": [
        "Linear Search"
      ],
      "metadata": {
        "id": "ecfbz94-4z_J"
      }
    },
    {
      "cell_type": "code",
      "execution_count": 3,
      "metadata": {
        "id": "dJwYr3cMzFs1",
        "colab": {
          "base_uri": "https://localhost:8080/"
        },
        "outputId": "8896bb60-e3dd-4042-dab2-f665df988180"
      },
      "outputs": [
        {
          "output_type": "stream",
          "name": "stdout",
          "text": [
            "enter the 20 numbers:\n",
            "32\n",
            "23\n",
            "23\n",
            "89\n",
            "20\n",
            "56\n",
            "89\n",
            "90\n",
            "57\n",
            "30\n",
            "29\n",
            "40\n",
            "50\n",
            "99\n",
            "89\n",
            "76\n",
            "45\n",
            "67\n",
            "98\n",
            "75\n",
            "enter the number to be searched:\n",
            "50\n",
            "\n",
            "number found at index number:\n",
            "12\n"
          ]
        }
      ],
      "source": [
        "print('enter the 20 numbers:')\n",
        "arr=[]\n",
        "for i in range(20):\n",
        "  arr.insert(i,int(input()))\n",
        "print('enter the number to be searched:')\n",
        "num=int(input())\n",
        "for i in range(20):\n",
        "  if num==arr[i]:\n",
        "    index=i\n",
        "    break\n",
        "print('\\nnumber found at index number:')\n",
        "print(index)"
      ]
    },
    {
      "cell_type": "markdown",
      "source": [
        "Binary Search\n"
      ],
      "metadata": {
        "id": "7wZYoapu9HpP"
      }
    },
    {
      "cell_type": "code",
      "source": [
        "num = []\n",
        "print(\"How Many Number to Enter : \")\n",
        "tot = int(input())\n",
        "print(\"Enter \" + str(tot) + \" Numbers: \")\n",
        "for i in range(tot):\n",
        "    num.insert(i, int(input()))\n",
        "\n",
        "for i in range(tot-1):\n",
        "    for j in range(tot-i-1):\n",
        "        if num[j]>num[j+1]:\n",
        "            temp = num[j]\n",
        "            num[j] = num[j+1]\n",
        "            num[j+1] = temp\n",
        "\n",
        "print(end=\"\\nThe List is: \")\n",
        "for i in range(tot):\n",
        "    print(end=str(num[i]) + \" \")\n",
        "\n",
        "print(\"\\nEnter a Number to Search: \")\n",
        "search = int(input())\n",
        "first = 0\n",
        "last = tot-1\n",
        "middle = int((first+last)/2)\n",
        "while first <= last:\n",
        "    if num[middle]<search:\n",
        "        first = middle+1\n",
        "    elif num[middle]==search:\n",
        "        print(\"\\nThe Number Found at Position: \" + str(middle+1))\n",
        "        break\n",
        "    else:\n",
        "        last = middle-1\n",
        "    middle = int((first+last)/2)\n",
        "if first>last:\n",
        "    print(\"\\nThe Number is not Found in the List\")"
      ],
      "metadata": {
        "colab": {
          "base_uri": "https://localhost:8080/"
        },
        "id": "Uy1tB7Mu9Lwa",
        "outputId": "a844d676-c738-4d3d-a926-2cb989589c09"
      },
      "execution_count": 33,
      "outputs": [
        {
          "output_type": "stream",
          "name": "stdout",
          "text": [
            "How Many Number to Enter : \n",
            "20\n",
            "Enter 20 Numbers: \n",
            "90\n",
            "100\n",
            "80\n",
            "70\n",
            "60\n",
            "50\n",
            "40\n",
            "30\n",
            "20\n",
            "10\n",
            "15\n",
            "4\n",
            "67\n",
            "66\n",
            "89\n",
            "99\n",
            "54\n",
            "34\n",
            "25\n",
            "78\n",
            "\n",
            "The List is: 4 10 15 20 25 30 34 40 50 54 60 66 67 70 78 80 89 90 99 100 \n",
            "Enter a Number to Search: \n",
            "50\n",
            "\n",
            "The Number Found at Position: 9\n"
          ]
        }
      ]
    },
    {
      "cell_type": "markdown",
      "source": [
        "Bubble sort"
      ],
      "metadata": {
        "id": "MEGGxHr3AM4I"
      }
    },
    {
      "cell_type": "code",
      "source": [
        "a= []\n",
        "print(\"Enter the Size of List: \")\n",
        "tot = int(input())\n",
        "\n",
        "print(\"Enter \" + str(tot) + \" Numbers: \")\n",
        "for i in range(tot):\n",
        "    a.insert(i, int(input()))\n",
        "\n",
        "for i in range(tot-1):\n",
        "    for j in range(tot-i-1):\n",
        "        if a[j]>a[j+1]:\n",
        "            temp = a[j]\n",
        "            a[j] = a[j+1]\n",
        "            a[j+1] = temp\n",
        "\n",
        "print(end=\"\\nThe Sorted List is : \")\n",
        "for i in range(tot):\n",
        "    print(end=str(a[i])+ \" \")"
      ],
      "metadata": {
        "colab": {
          "base_uri": "https://localhost:8080/"
        },
        "id": "GFeRrzhjAOwn",
        "outputId": "3cb87668-418b-47ef-c5a8-1c1c0dbc5b7f"
      },
      "execution_count": 41,
      "outputs": [
        {
          "output_type": "stream",
          "name": "stdout",
          "text": [
            "Enter the Size of List: \n",
            "20\n",
            "Enter 20 Numbers: \n",
            "100\n",
            "90\n",
            "80\n",
            "70\n",
            "60\n",
            "50\n",
            "40\n",
            "30\n",
            "20\n",
            "10\n",
            "15\n",
            "66\n",
            "45\n",
            "33\n",
            "77\n",
            "88\n",
            "99\n",
            "67\n",
            "55\n",
            "23\n",
            "\n",
            "The Sorted List is:10 15 20 23 30 33 40 45 50 55 60 66 67 70 77 80 88 90 99 100 "
          ]
        }
      ]
    },
    {
      "cell_type": "markdown",
      "source": [
        "what is a bubble sort?\n",
        "A bubble sort is the simplest sorting algorithm that works repeatedly swapping the adjacent elements if they are in the wrong order.\n",
        "\n",
        "How does the bubble sort works\n",
        "input:arr[]={5,1,4,2,8}\n",
        "\n",
        "\n",
        "First pass:\n",
        "\n",
        "\n",
        "Bubble sort starts with very first two elements, comparing them to check which one is greater.\n",
        "( 5 1 4 2 8 ) –> ( 1 5 4 2 8 ), Here, algorithm compares the first two elements, and swaps since 5 > 1. \n",
        "( 1 5 4 2 8 ) –>  ( 1 4 5 2 8 ), Swap since 5 > 4 \n",
        "( 1 4 5 2 8 ) –>  ( 1 4 2 5 8 ), Swap since 5 > 2 \n",
        "( 1 4 2 5 8 ) –> ( 1 4 2 5 8 ), Now, since these elements are already in order (8 > 5), algorithm does not swap them.\n",
        "\n",
        "Second pass:\n",
        "( 1 4 2 5 8 ) –> ( 1 4 2 5 8 ) \n",
        "( 1 4 2 5 8 ) –> ( 1 2 4 5 8 ), Swap since 4 > 2 \n",
        "( 1 2 4 5 8 ) –> ( 1 2 4 5 8 ) \n",
        "( 1 2 4 5 8 ) –>  ( 1 2 4 5 8 ) \n",
        "\n",
        "\n",
        "Third Pass:\n",
        "The array is sorted but the algorithm doesn't if it is completed.So, the algorithm needs one whole pass without any swap to know it's sorted "
      ],
      "metadata": {
        "id": "pzwk7repD_io"
      }
    },
    {
      "cell_type": "markdown",
      "source": [
        "Mean , Median , Mode for the dataset\n"
      ],
      "metadata": {
        "id": "ZjpXkqFBFgOp"
      }
    },
    {
      "cell_type": "code",
      "source": [
        "num = []\n",
        "print(\"How Many Number to Enter : \")\n",
        "tot = int(input())\n",
        "print(\"Enter \" + str(tot) + \" Numbers: \")\n",
        "for i in range(tot):\n",
        "    num.insert(i, int(input()))\n",
        "mean=sum(num)/len(num)\n",
        "print('mean : ',mean)\n",
        "\n"
      ],
      "metadata": {
        "colab": {
          "base_uri": "https://localhost:8080/"
        },
        "id": "axkoEj7gF-Oi",
        "outputId": "5b82ff33-0f9d-4056-b1f8-8c9757c93a42"
      },
      "execution_count": 44,
      "outputs": [
        {
          "output_type": "stream",
          "name": "stdout",
          "text": [
            "How Many Number to Enter : \n",
            "20\n",
            "Enter 20 Numbers: \n",
            "10\n",
            "20\n",
            "30\n",
            "40\n",
            "50\n",
            "60\n",
            "70\n",
            "80\n",
            "90\n",
            "100\n",
            "24\n",
            "55\n",
            "66\n",
            "77\n",
            "88\n",
            "99\n",
            "54\n",
            "33\n",
            "21\n",
            "19\n",
            "mean :  54.3\n"
          ]
        }
      ]
    },
    {
      "cell_type": "code",
      "source": [
        "import statistics\n",
        "num = []\n",
        "print(\"How Many Number to Enter : \")\n",
        "tot = int(input())\n",
        "print(\"Enter \" + str(tot) + \" Numbers: \")\n",
        "for i in range(tot):\n",
        "    num.insert(i, int(input()))\n",
        "median1=statistics.median(num)\n",
        "print('median1 : ', median1)"
      ],
      "metadata": {
        "colab": {
          "base_uri": "https://localhost:8080/"
        },
        "id": "Xhfnjc-lTiS_",
        "outputId": "202bfc1c-1dd9-434a-b744-7cfc0a72d1d5"
      },
      "execution_count": 50,
      "outputs": [
        {
          "output_type": "stream",
          "name": "stdout",
          "text": [
            "How Many Number to Enter : \n",
            "20\n",
            "Enter 20 Numbers: \n",
            "10\n",
            "20\n",
            "30\n",
            "40\n",
            "50\n",
            "60\n",
            "70\n",
            "80\n",
            "90\n",
            "100\n",
            "12\n",
            "15\n",
            "67\n",
            "88\n",
            "77\n",
            "66\n",
            "55\n",
            "4\n",
            "44\n",
            "33\n",
            "median1 :  52.5\n"
          ]
        }
      ]
    },
    {
      "cell_type": "code",
      "source": [
        "num = []\n",
        "print(\"How Many Number to Enter : \")\n",
        "tot = int(input())\n",
        "print(\"Enter \" + str(tot) + \" Numbers: \")\n",
        "for i in range(tot):\n",
        "    num.insert(i, int(input()))\n",
        "import statistics\n",
        "mode1=statistics.mode(num)\n",
        "print('mode1: ',mode1)"
      ],
      "metadata": {
        "colab": {
          "base_uri": "https://localhost:8080/"
        },
        "id": "UN9C3X_nUOs8",
        "outputId": "be007de9-162b-4aed-c462-931f6f4e4c8e"
      },
      "execution_count": 54,
      "outputs": [
        {
          "output_type": "stream",
          "name": "stdout",
          "text": [
            "How Many Number to Enter : \n",
            "20\n",
            "Enter 20 Numbers: \n",
            "10\n",
            "10\n",
            "22\n",
            "34\n",
            "56\n",
            "66\n",
            "78\n",
            "88\n",
            "44\n",
            "44\n",
            "57\n",
            "70\n",
            "10\n",
            "23\n",
            "45\n",
            "10\n",
            "45\n",
            "66\n",
            "76\n",
            "20\n",
            "mode1:  10\n"
          ]
        }
      ]
    },
    {
      "cell_type": "markdown",
      "source": [
        "Prime numbers"
      ],
      "metadata": {
        "id": "kFCC1yaQUaGV"
      }
    },
    {
      "cell_type": "code",
      "source": [
        "n=int(input(\"Enter the number till you want to check: \"))\n",
        "primes = []\n",
        "for i in range (2, n+1):\n",
        "    for j in range(2, i):\n",
        "        if i%j == 0:\n",
        "            break\n",
        "    else:\n",
        "      primes.append(i)\n",
        "print(primes)"
      ],
      "metadata": {
        "colab": {
          "base_uri": "https://localhost:8080/"
        },
        "id": "Uv98WJMAUclk",
        "outputId": "228f4aed-b06c-43c4-b25c-c8491df27dce"
      },
      "execution_count": 26,
      "outputs": [
        {
          "output_type": "stream",
          "name": "stdout",
          "text": [
            "Enter the number till you want to check: 20\n",
            "[2, 3, 5, 7, 11, 13, 17, 19]\n"
          ]
        }
      ]
    },
    {
      "cell_type": "code",
      "source": [
        " "
      ],
      "metadata": {
        "id": "Q65I-nDiWY4t"
      },
      "execution_count": null,
      "outputs": []
    }
  ]
}