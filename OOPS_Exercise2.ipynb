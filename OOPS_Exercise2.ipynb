{
  "nbformat": 4,
  "nbformat_minor": 0,
  "metadata": {
    "colab": {
      "provenance": [],
      "collapsed_sections": [],
      "authorship_tag": "ABX9TyN2RR6J6l1Wm3QNiDLFUK/2",
      "include_colab_link": true
    },
    "kernelspec": {
      "name": "python3",
      "display_name": "Python 3"
    },
    "language_info": {
      "name": "python"
    }
  },
  "cells": [
    {
      "cell_type": "markdown",
      "metadata": {
        "id": "view-in-github",
        "colab_type": "text"
      },
      "source": [
        "<a href=\"https://colab.research.google.com/github/Niyati223/Niyati223/blob/main/OOPS_Exercise2.ipynb\" target=\"_parent\"><img src=\"https://colab.research.google.com/assets/colab-badge.svg\" alt=\"Open In Colab\"/></a>"
      ]
    },
    {
      "cell_type": "markdown",
      "source": [
        "1.Write a Python program to create a Vehicle class with name, max_speed and mileage instance attributes.\n",
        "\n"
      ],
      "metadata": {
        "id": "bKWyHrpEK8Kj"
      }
    },
    {
      "cell_type": "code",
      "execution_count": 1,
      "metadata": {
        "id": "rIp8MLLJK3rp"
      },
      "outputs": [],
      "source": [
        "class vehicle:\n",
        "  def __init__(self,name,max_speed,mileage):\n",
        "    self.name=name\n",
        "    self.max_speed=max_speed\n",
        "    self.mileage=mileage\n"
      ]
    },
    {
      "cell_type": "code",
      "source": [
        "v1=vehicle('BMW',200,25)\n",
        "v2=vehicle('activa',100,60)"
      ],
      "metadata": {
        "id": "nRpTftf5LHED"
      },
      "execution_count": 2,
      "outputs": []
    },
    {
      "cell_type": "code",
      "source": [
        "print(v1.name,v1.max_speed,v1.mileage)\n",
        "print(v2.name,v2.max_speed,v2.mileage)"
      ],
      "metadata": {
        "colab": {
          "base_uri": "https://localhost:8080/"
        },
        "id": "AjOeRiVDLLx8",
        "outputId": "dd4b06b6-0d90-4d93-862f-c53e9aa91331"
      },
      "execution_count": 3,
      "outputs": [
        {
          "output_type": "stream",
          "name": "stdout",
          "text": [
            "BMW 200 25\n",
            "activa 100 60\n"
          ]
        }
      ]
    },
    {
      "cell_type": "markdown",
      "source": [
        "2.For the same problem statement 1, Define a property that must have the same value for every class instance (object)"
      ],
      "metadata": {
        "id": "p9hW-elyLNNF"
      }
    },
    {
      "cell_type": "code",
      "source": [
        "class vehicle:\n",
        "  def __init__(self,name,max_speed,mileage):\n",
        "    self.name=name\n",
        "    self.max_speed=max_speed\n",
        "    self.mileage=mileage\n",
        "    self.c=self.color()\n",
        "\n",
        "  class color:\n",
        "    def __init__(self):\n",
        "      self.color = 'white'\n",
        "\n",
        "    def show(self):\n",
        "      print(self.color)\n"
      ],
      "metadata": {
        "id": "k-UkfCOoLTSq"
      },
      "execution_count": 4,
      "outputs": []
    },
    {
      "cell_type": "code",
      "source": [
        "v1=vehicle('BMW',200,25)\n",
        "v2=vehicle('activa',100,60)"
      ],
      "metadata": {
        "id": "XmZ60oNKMz66"
      },
      "execution_count": 14,
      "outputs": []
    },
    {
      "cell_type": "code",
      "source": [
        "v1.c.show()"
      ],
      "metadata": {
        "colab": {
          "base_uri": "https://localhost:8080/"
        },
        "id": "-e66GbMYM76R",
        "outputId": "283743b1-edfb-4df6-de07-fb8fce170de8"
      },
      "execution_count": 7,
      "outputs": [
        {
          "output_type": "stream",
          "name": "stdout",
          "text": [
            "white\n"
          ]
        }
      ]
    },
    {
      "cell_type": "code",
      "source": [
        "v2.c.show()"
      ],
      "metadata": {
        "colab": {
          "base_uri": "https://localhost:8080/"
        },
        "id": "9yoM-6GhUhNb",
        "outputId": "b02fd2eb-63e8-4699-967d-d946e2bcffc6"
      },
      "execution_count": 42,
      "outputs": [
        {
          "output_type": "stream",
          "name": "stdout",
          "text": [
            "white\n"
          ]
        }
      ]
    },
    {
      "cell_type": "markdown",
      "source": [
        "3.Create a child class 'Bus' that will inherit all of the variables and methods of the Vehicle class"
      ],
      "metadata": {
        "id": "M30jilY6NC2i"
      }
    },
    {
      "cell_type": "code",
      "source": [
        "class vehicle:\n",
        "  def __init__(self,name,max_speed,mileage):\n",
        "    self.name=name\n",
        "    self.max_speed=max_speed\n",
        "    self.mileage=mileage\n",
        "\n",
        "\n",
        "class bus(vehicle):\n",
        "  pass"
      ],
      "metadata": {
        "id": "Zv3bhqOkNFZJ"
      },
      "execution_count": 39,
      "outputs": []
    },
    {
      "cell_type": "code",
      "source": [
        "b=bus('volvo',180,20)"
      ],
      "metadata": {
        "id": "ivkKLUTnN3cb"
      },
      "execution_count": 35,
      "outputs": []
    },
    {
      "cell_type": "code",
      "source": [
        "print(b.name,b.max_speed,b.mileage)"
      ],
      "metadata": {
        "colab": {
          "base_uri": "https://localhost:8080/"
        },
        "id": "zkA2oSRpOelJ",
        "outputId": "3d35e41a-9d5f-4611-b7d3-461198b09469"
      },
      "execution_count": 26,
      "outputs": [
        {
          "output_type": "stream",
          "name": "stdout",
          "text": [
            "volvo 180 20\n"
          ]
        }
      ]
    },
    {
      "cell_type": "markdown",
      "source": [
        "4.create an object for child class i.e Bus and check whether the object is an instance of the Vehicle Class"
      ],
      "metadata": {
        "id": "horwq_8GOmlq"
      }
    },
    {
      "cell_type": "code",
      "source": [
        "b3=bus('audi',180,25)"
      ],
      "metadata": {
        "id": "vHDW3YwcOl5g"
      },
      "execution_count": 40,
      "outputs": []
    },
    {
      "cell_type": "code",
      "source": [
        "print(isinstance(b3,vehicle))"
      ],
      "metadata": {
        "colab": {
          "base_uri": "https://localhost:8080/"
        },
        "id": "sKHo0LEZTM4F",
        "outputId": "aa5ff5c4-5f90-4147-c84f-49695c060605"
      },
      "execution_count": 41,
      "outputs": [
        {
          "output_type": "stream",
          "name": "stdout",
          "text": [
            "True\n"
          ]
        }
      ]
    },
    {
      "cell_type": "markdown",
      "source": [
        "5. Check whether Bus class is a subclass of Vehicle class"
      ],
      "metadata": {
        "id": "hhY89zYWPiN5"
      }
    },
    {
      "cell_type": "code",
      "source": [
        "b2=bus(v2.name,v2.max_speed,v2.mileage)\n",
        "print(b2.name,b2.max_speed,b2.mileage)"
      ],
      "metadata": {
        "colab": {
          "base_uri": "https://localhost:8080/"
        },
        "id": "clMLGgGaQfTC",
        "outputId": "06cd690e-6424-437f-e105-85f5a2a877fa"
      },
      "execution_count": 30,
      "outputs": [
        {
          "output_type": "stream",
          "name": "stdout",
          "text": [
            "activa 100 60\n"
          ]
        }
      ]
    },
    {
      "cell_type": "code",
      "source": [
        "print(issubclass(bus,vehicle))"
      ],
      "metadata": {
        "colab": {
          "base_uri": "https://localhost:8080/"
        },
        "id": "9ECFVRhhSKmU",
        "outputId": "38c0636e-7b67-440d-8e60-cb23c5e3eb7b"
      },
      "execution_count": 31,
      "outputs": [
        {
          "output_type": "stream",
          "name": "stdout",
          "text": [
            "True\n"
          ]
        }
      ]
    },
    {
      "cell_type": "markdown",
      "source": [
        "Create an empty class called Car, check whether Car is a sub class of Vehicle Class"
      ],
      "metadata": {
        "id": "mjD8a7p8R6_T"
      }
    },
    {
      "cell_type": "code",
      "source": [
        "class vehicle:\n",
        "  def __init__(self,name,max_speed,mileage):\n",
        "    self.name=name\n",
        "    self.max_speed=max_speed\n",
        "    self.mileage=mileage\n",
        "\n",
        "class car(vehicle):\n",
        "  pass"
      ],
      "metadata": {
        "id": "-OtTSCurR7vp"
      },
      "execution_count": 32,
      "outputs": []
    },
    {
      "cell_type": "code",
      "source": [
        "print(issubclass(car,vehicle))"
      ],
      "metadata": {
        "colab": {
          "base_uri": "https://localhost:8080/"
        },
        "id": "HNxMpA9PTAVk",
        "outputId": "a6faaa12-9c38-4e4e-c69d-625d1fdb178f"
      },
      "execution_count": 33,
      "outputs": [
        {
          "output_type": "stream",
          "name": "stdout",
          "text": [
            "True\n"
          ]
        }
      ]
    }
  ]
}