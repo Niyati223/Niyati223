{
  "nbformat": 4,
  "nbformat_minor": 0,
  "metadata": {
    "colab": {
      "provenance": [],
      "collapsed_sections": [],
      "authorship_tag": "ABX9TyNbLtkvVgLyCM8KRzCm0PL7",
      "include_colab_link": true
    },
    "kernelspec": {
      "name": "python3",
      "display_name": "Python 3"
    },
    "language_info": {
      "name": "python"
    }
  },
  "cells": [
    {
      "cell_type": "markdown",
      "metadata": {
        "id": "view-in-github",
        "colab_type": "text"
      },
      "source": [
        "<a href=\"https://colab.research.google.com/github/Niyati223/Niyati223/blob/main/Exception_handler.ipynb\" target=\"_parent\"><img src=\"https://colab.research.google.com/assets/colab-badge.svg\" alt=\"Open In Colab\"/></a>"
      ]
    },
    {
      "cell_type": "code",
      "execution_count": 1,
      "metadata": {
        "colab": {
          "base_uri": "https://localhost:8080/"
        },
        "id": "yeC4uZ_YrL2a",
        "outputId": "4d55f899-a557-485a-c22d-6d80fc391ea2"
      },
      "outputs": [
        {
          "output_type": "stream",
          "name": "stdout",
          "text": [
            "Enter a number29\n",
            "Enter second number36\n",
            "sum is 65\n"
          ]
        }
      ],
      "source": [
        "x= int(input(\"Enter a number\"))\n",
        "y= int(input(\"Enter second number\"))\n",
        "print(\"sum is\",x+y)"
      ]
    },
    {
      "cell_type": "code",
      "source": [
        "x= int(input(\"Enter a number\"))\n",
        "y= input(\"Enter second number\")\n",
        "print(\"sum is\",x+y)"
      ],
      "metadata": {
        "colab": {
          "base_uri": "https://localhost:8080/",
          "height": 235
        },
        "id": "OFek3VMatGeJ",
        "outputId": "d0757c3b-b80e-4e7c-f6fa-a31c33b27332"
      },
      "execution_count": 2,
      "outputs": [
        {
          "name": "stdout",
          "output_type": "stream",
          "text": [
            "Enter a number4\n",
            "Enter second numbers\n"
          ]
        },
        {
          "output_type": "error",
          "ename": "TypeError",
          "evalue": "ignored",
          "traceback": [
            "\u001b[0;31m---------------------------------------------------------------------------\u001b[0m",
            "\u001b[0;31mTypeError\u001b[0m                                 Traceback (most recent call last)",
            "\u001b[0;32m<ipython-input-2-5309012f785d>\u001b[0m in \u001b[0;36m<module>\u001b[0;34m\u001b[0m\n\u001b[1;32m      1\u001b[0m \u001b[0mx\u001b[0m\u001b[0;34m=\u001b[0m \u001b[0mint\u001b[0m\u001b[0;34m(\u001b[0m\u001b[0minput\u001b[0m\u001b[0;34m(\u001b[0m\u001b[0;34m\"Enter a number\"\u001b[0m\u001b[0;34m)\u001b[0m\u001b[0;34m)\u001b[0m\u001b[0;34m\u001b[0m\u001b[0;34m\u001b[0m\u001b[0m\n\u001b[1;32m      2\u001b[0m \u001b[0my\u001b[0m\u001b[0;34m=\u001b[0m \u001b[0minput\u001b[0m\u001b[0;34m(\u001b[0m\u001b[0;34m\"Enter second number\"\u001b[0m\u001b[0;34m)\u001b[0m\u001b[0;34m\u001b[0m\u001b[0;34m\u001b[0m\u001b[0m\n\u001b[0;32m----> 3\u001b[0;31m \u001b[0mprint\u001b[0m\u001b[0;34m(\u001b[0m\u001b[0;34m\"sum is\"\u001b[0m\u001b[0;34m,\u001b[0m\u001b[0mx\u001b[0m\u001b[0;34m+\u001b[0m\u001b[0my\u001b[0m\u001b[0;34m)\u001b[0m\u001b[0;34m\u001b[0m\u001b[0;34m\u001b[0m\u001b[0m\n\u001b[0m",
            "\u001b[0;31mTypeError\u001b[0m: unsupported operand type(s) for +: 'int' and 'str'"
          ]
        }
      ]
    },
    {
      "cell_type": "code",
      "source": [
        "a= int(input())\n",
        "b=int(input())\n",
        "print(\"Division result\",a/b)"
      ],
      "metadata": {
        "colab": {
          "base_uri": "https://localhost:8080/",
          "height": 235
        },
        "id": "zf7LK8X2tMWU",
        "outputId": "0d351dc1-ea72-48b0-dd05-21800697c466"
      },
      "execution_count": 3,
      "outputs": [
        {
          "name": "stdout",
          "output_type": "stream",
          "text": [
            "2\n",
            "0\n"
          ]
        },
        {
          "output_type": "error",
          "ename": "ZeroDivisionError",
          "evalue": "ignored",
          "traceback": [
            "\u001b[0;31m---------------------------------------------------------------------------\u001b[0m",
            "\u001b[0;31mZeroDivisionError\u001b[0m                         Traceback (most recent call last)",
            "\u001b[0;32m<ipython-input-3-b0f35f1e2451>\u001b[0m in \u001b[0;36m<module>\u001b[0;34m\u001b[0m\n\u001b[1;32m      1\u001b[0m \u001b[0ma\u001b[0m\u001b[0;34m=\u001b[0m \u001b[0mint\u001b[0m\u001b[0;34m(\u001b[0m\u001b[0minput\u001b[0m\u001b[0;34m(\u001b[0m\u001b[0;34m)\u001b[0m\u001b[0;34m)\u001b[0m\u001b[0;34m\u001b[0m\u001b[0;34m\u001b[0m\u001b[0m\n\u001b[1;32m      2\u001b[0m \u001b[0mb\u001b[0m\u001b[0;34m=\u001b[0m\u001b[0mint\u001b[0m\u001b[0;34m(\u001b[0m\u001b[0minput\u001b[0m\u001b[0;34m(\u001b[0m\u001b[0;34m)\u001b[0m\u001b[0;34m)\u001b[0m\u001b[0;34m\u001b[0m\u001b[0;34m\u001b[0m\u001b[0m\n\u001b[0;32m----> 3\u001b[0;31m \u001b[0mprint\u001b[0m\u001b[0;34m(\u001b[0m\u001b[0;34m\"Division result\"\u001b[0m\u001b[0;34m,\u001b[0m\u001b[0ma\u001b[0m\u001b[0;34m/\u001b[0m\u001b[0mb\u001b[0m\u001b[0;34m)\u001b[0m\u001b[0;34m\u001b[0m\u001b[0;34m\u001b[0m\u001b[0m\n\u001b[0m",
            "\u001b[0;31mZeroDivisionError\u001b[0m: division by zero"
          ]
        }
      ]
    },
    {
      "cell_type": "code",
      "source": [
        "a= int(input())\n",
        "b=int(input())\n",
        "print(\"Division result\",a/b)"
      ],
      "metadata": {
        "colab": {
          "base_uri": "https://localhost:8080/"
        },
        "id": "9i_rzRx_tT9z",
        "outputId": "d8545906-4e83-47d7-ef1e-d7099922bbbd"
      },
      "execution_count": 5,
      "outputs": [
        {
          "output_type": "stream",
          "name": "stdout",
          "text": [
            "1\n",
            "2\n",
            "Division result 0.5\n"
          ]
        }
      ]
    },
    {
      "cell_type": "code",
      "source": [
        "try:\n",
        "  a=5\n",
        "  b='0'\n",
        "  print(a/b)# exception raised-> execute block gets executed\n",
        "except:\n",
        "  print('Some error occured')\n",
        "\n",
        "print('out of try except blocks')"
      ],
      "metadata": {
        "colab": {
          "base_uri": "https://localhost:8080/"
        },
        "id": "a7JZrWD1tdpU",
        "outputId": "01ad413e-171c-4eb6-b909-60b44e40b68d"
      },
      "execution_count": 6,
      "outputs": [
        {
          "output_type": "stream",
          "name": "stdout",
          "text": [
            "Some error occured\n",
            "out of try except blocks\n"
          ]
        }
      ]
    },
    {
      "cell_type": "code",
      "source": [
        "try:\n",
        "  a=int(input(\"enter first value\"))\n",
        "  b=int(input(\"enter second value\"))\n",
        "  print(a/b)\n",
        "\n",
        "except:\n",
        "  print('Enter a number')  \n",
        "\n",
        "print('out of try except block')"
      ],
      "metadata": {
        "colab": {
          "base_uri": "https://localhost:8080/"
        },
        "id": "vRiVWW0-um2S",
        "outputId": "248a5a8c-ea65-4ba0-94cd-be1f50cf577e"
      },
      "execution_count": 7,
      "outputs": [
        {
          "output_type": "stream",
          "name": "stdout",
          "text": [
            "enter first value7\n",
            "enter second valuel\n",
            "Enter a number\n",
            "out of try except block\n"
          ]
        }
      ]
    },
    {
      "cell_type": "code",
      "source": [
        "try:\n",
        "  a=int(input(\"enter first value\"))\n",
        "  b=int(input(\"enter second value\"))\n",
        "  print(a/b)\n",
        "\n",
        "except:\n",
        "  print('Enter a number')  \n",
        "\n",
        "print('out of try except block')"
      ],
      "metadata": {
        "colab": {
          "base_uri": "https://localhost:8080/"
        },
        "id": "6SjeRHd-uquL",
        "outputId": "518ddfe1-ef87-48f2-f2ba-996b49ff1392"
      },
      "execution_count": 8,
      "outputs": [
        {
          "output_type": "stream",
          "name": "stdout",
          "text": [
            "enter first value7\n",
            "enter second value1\n",
            "7.0\n",
            "out of try except block\n"
          ]
        }
      ]
    },
    {
      "cell_type": "code",
      "source": [
        "try:\n",
        "  a=int(input(\"enter first value\"))\n",
        "  b=input(\"enter second value\")\n",
        "  print(a/b)\n",
        "  print(\"sum is\",a+b)\n",
        "\n",
        "except ZeroDivisionError:\n",
        "  print('Enter a number other than zero')\n",
        "except ValueError:\n",
        "  print('Enter a number only') \n",
        "except TypeError:\n",
        "  print('Enter a  correct')   \n",
        "\n",
        "print('this is out of try except block')"
      ],
      "metadata": {
        "colab": {
          "base_uri": "https://localhost:8080/"
        },
        "id": "owVDQbaguwkr",
        "outputId": "26f49b16-e810-462b-b3ec-fbeab06e4b68"
      },
      "execution_count": 9,
      "outputs": [
        {
          "output_type": "stream",
          "name": "stdout",
          "text": [
            "enter first value8\n",
            "enter second valuep\n",
            "Enter a  correct\n",
            "this is out of try except block\n"
          ]
        }
      ]
    },
    {
      "cell_type": "code",
      "source": [
        "try:\n",
        "  a=int(input(\"enter first value\"))\n",
        "  b=int(input(\"enter second value\"))\n",
        "  c=(a/b)\n",
        "  \n",
        "\n",
        "except ZeroDivisionError:\n",
        "  print('Enter a number other than zero')\n",
        "except ValueError:\n",
        "  print('Enter a number only') \n",
        "except TypeError:\n",
        "  print('Enter a  correct')\n",
        "\n",
        "\n",
        "else:  \n",
        "  print('else block')\n",
        "  print('Division=',c)"
      ],
      "metadata": {
        "colab": {
          "base_uri": "https://localhost:8080/"
        },
        "id": "n2a7odXhvN_w",
        "outputId": "c112bf93-0967-46eb-9596-828da08ddf67"
      },
      "execution_count": 10,
      "outputs": [
        {
          "output_type": "stream",
          "name": "stdout",
          "text": [
            "enter first value5\n",
            "enter second value5\n",
            "else block\n",
            "Division= 1.0\n"
          ]
        }
      ]
    },
    {
      "cell_type": "code",
      "source": [
        "try:\n",
        "  a=int(input(\"enter first value\"))\n",
        "  b=int(input(\"enter second value\"))\n",
        "  c=(a/b)\n",
        "  \n",
        "\n",
        "except ZeroDivisionError:\n",
        "  print('Enter a number other than zero')\n",
        "except ValueError:\n",
        "  print('Enter a number only') \n",
        "except TypeError:\n",
        "  print('Enter a  correct')\n",
        "\n",
        "\n",
        "else:  \n",
        "  print('else block')\n",
        "  print('Division=',c)"
      ],
      "metadata": {
        "colab": {
          "base_uri": "https://localhost:8080/"
        },
        "id": "vkhKBf09vWTj",
        "outputId": "94f5edbc-6d0e-445a-d39a-cc540e721478"
      },
      "execution_count": 11,
      "outputs": [
        {
          "output_type": "stream",
          "name": "stdout",
          "text": [
            "enter first value5\n",
            "enter second value0\n",
            "Enter a number other than zero\n"
          ]
        }
      ]
    },
    {
      "cell_type": "code",
      "source": [
        "try:\n",
        "  a=int(input(\"enter first value\"))\n",
        "  b=input(\"enter second value\")\n",
        "  c=(a/b)\n",
        "  \n",
        "\n",
        "except ZeroDivisionError:\n",
        "  print('Enter a number other than zero')\n",
        "except ValueError:\n",
        "  print('Enter a number only') \n",
        "except TypeError:\n",
        "  print('Enter a  correct')\n",
        "\n",
        "\n",
        "else:  \n",
        "  print('else block')\n",
        "  print('Division=',c)"
      ],
      "metadata": {
        "colab": {
          "base_uri": "https://localhost:8080/"
        },
        "id": "e1aPBZiKvlOC",
        "outputId": "8b27801b-6211-45c9-b020-7be77e558bfd"
      },
      "execution_count": 12,
      "outputs": [
        {
          "output_type": "stream",
          "name": "stdout",
          "text": [
            "enter first value3\n",
            "enter second value7\n",
            "Enter a  correct\n"
          ]
        }
      ]
    },
    {
      "cell_type": "code",
      "source": [
        "try:\n",
        "  a=int(input(\"enter first value\"))\n",
        "  b=int(input(\"enter second value\"))\n",
        "  c=(a/b)\n",
        "  \n",
        "\n",
        "except ZeroDivisionError:\n",
        "  print('Enter a number other than zero')\n",
        "except ValueError:\n",
        "  print('Enter a number only') \n",
        "except TypeError:\n",
        "  print('Enter a  correct')\n",
        "\n",
        "\n",
        "#else:  \n",
        "  print('else block') #it doesn't get executed when we use finally\n",
        "  print('Division=',c)\n",
        "\n",
        "\n",
        "finally:\n",
        "  print(\"finally block\")\n",
        "print('out of my try, except, else,finally block')"
      ],
      "metadata": {
        "colab": {
          "base_uri": "https://localhost:8080/"
        },
        "id": "CVgLrG9rvcBD",
        "outputId": "c2490a3c-2972-4087-c4c1-384177e3413f"
      },
      "execution_count": 13,
      "outputs": [
        {
          "output_type": "stream",
          "name": "stdout",
          "text": [
            "enter first value4\n",
            "enter second value6\n",
            "finally block\n",
            "out of my try, except, else,finally block\n"
          ]
        }
      ]
    },
    {
      "cell_type": "code",
      "source": [
        "try:\n",
        "  a=int(input(\"enter first value\"))\n",
        "  b=input(\"enter second value\")\n",
        "  c=(a/b)\n",
        "  \n",
        "\n",
        "except ZeroDivisionError:\n",
        "  print('Enter a number other than zero')\n",
        "except ValueError:\n",
        "  print('Enter a number only') \n",
        "except TypeError:\n",
        "  print('Enter a  correct')\n",
        "\n",
        "\n",
        "else:  \n",
        "  print('else block') #it doesn't get executed when we use finally\n",
        "  print('Division=',c)\n",
        "\n",
        "\n",
        "finally:\n",
        "  print(\"finally block\")\n",
        "print('out of my try, except, else,finally block')"
      ],
      "metadata": {
        "colab": {
          "base_uri": "https://localhost:8080/"
        },
        "id": "BtkuOAbrwEhk",
        "outputId": "b487e01a-95cb-456d-977c-82c1853f764b"
      },
      "execution_count": 17,
      "outputs": [
        {
          "output_type": "stream",
          "name": "stdout",
          "text": [
            "enter first value6\n",
            "enter second valuen\n",
            "Enter a  correct\n",
            "finally block\n",
            "out of my try, except, else,finally block\n"
          ]
        }
      ]
    },
    {
      "cell_type": "code",
      "source": [
        "from ast import Raise\n",
        "x=int(input())\n",
        "y=input()\n",
        "try:\n",
        "  if y==0: \n",
        "     raise ZeroDivisionError()  \n",
        "  z=x/y\n",
        "  print(\"Divison =\",z)\n",
        "\n",
        "except ZeroDivisionError:\n",
        "  print(\"you cannot divide by zero\")\n",
        "\n",
        "\n",
        "\n",
        "finally:\n",
        "  print(\"finally block\")"
      ],
      "metadata": {
        "colab": {
          "base_uri": "https://localhost:8080/",
          "height": 287
        },
        "id": "ZjUZigdsw6_z",
        "outputId": "8ae31428-eb8c-4fc6-bf78-a2dfa497228e"
      },
      "execution_count": 20,
      "outputs": [
        {
          "output_type": "stream",
          "name": "stdout",
          "text": [
            "2\n",
            "4\n",
            "finally block\n"
          ]
        },
        {
          "output_type": "error",
          "ename": "TypeError",
          "evalue": "ignored",
          "traceback": [
            "\u001b[0;31m---------------------------------------------------------------------------\u001b[0m",
            "\u001b[0;31mTypeError\u001b[0m                                 Traceback (most recent call last)",
            "\u001b[0;32m<ipython-input-20-d1f195e517a1>\u001b[0m in \u001b[0;36m<module>\u001b[0;34m\u001b[0m\n\u001b[1;32m      5\u001b[0m   \u001b[0;32mif\u001b[0m \u001b[0my\u001b[0m\u001b[0;34m==\u001b[0m\u001b[0;36m0\u001b[0m\u001b[0;34m:\u001b[0m\u001b[0;34m\u001b[0m\u001b[0;34m\u001b[0m\u001b[0m\n\u001b[1;32m      6\u001b[0m      \u001b[0;32mraise\u001b[0m \u001b[0mZeroDivisionError\u001b[0m\u001b[0;34m(\u001b[0m\u001b[0;34m)\u001b[0m\u001b[0;34m\u001b[0m\u001b[0;34m\u001b[0m\u001b[0m\n\u001b[0;32m----> 7\u001b[0;31m   \u001b[0mz\u001b[0m\u001b[0;34m=\u001b[0m\u001b[0mx\u001b[0m\u001b[0;34m/\u001b[0m\u001b[0my\u001b[0m\u001b[0;34m\u001b[0m\u001b[0;34m\u001b[0m\u001b[0m\n\u001b[0m\u001b[1;32m      8\u001b[0m   \u001b[0mprint\u001b[0m\u001b[0;34m(\u001b[0m\u001b[0;34m\"Divison =\"\u001b[0m\u001b[0;34m,\u001b[0m\u001b[0mz\u001b[0m\u001b[0;34m)\u001b[0m\u001b[0;34m\u001b[0m\u001b[0;34m\u001b[0m\u001b[0m\n\u001b[1;32m      9\u001b[0m \u001b[0;34m\u001b[0m\u001b[0m\n",
            "\u001b[0;31mTypeError\u001b[0m: unsupported operand type(s) for /: 'int' and 'str'"
          ]
        }
      ]
    },
    {
      "cell_type": "code",
      "source": [
        "from ast import Raise\n",
        "x=int(input())\n",
        "y=input()\n",
        "try:\n",
        "  if y==0: \n",
        "     raise ZeroDivisionError()  \n",
        "  z=x/y\n",
        "  print(\"Divison =\",z)\n",
        "\n",
        "except ZeroDivisionError:\n",
        "  print(\"you cannot divide by zero\")\n",
        "\n",
        "\n",
        "\n",
        "finally:\n",
        "  print(\"finally block\")"
      ],
      "metadata": {
        "colab": {
          "base_uri": "https://localhost:8080/",
          "height": 287
        },
        "id": "rwO7yJjcxDIS",
        "outputId": "ab5e92ab-5da8-4377-bcb6-3ec29f51a5c4"
      },
      "execution_count": 21,
      "outputs": [
        {
          "output_type": "stream",
          "name": "stdout",
          "text": [
            "3\n",
            "o\n",
            "finally block\n"
          ]
        },
        {
          "output_type": "error",
          "ename": "TypeError",
          "evalue": "ignored",
          "traceback": [
            "\u001b[0;31m---------------------------------------------------------------------------\u001b[0m",
            "\u001b[0;31mTypeError\u001b[0m                                 Traceback (most recent call last)",
            "\u001b[0;32m<ipython-input-21-d1f195e517a1>\u001b[0m in \u001b[0;36m<module>\u001b[0;34m\u001b[0m\n\u001b[1;32m      5\u001b[0m   \u001b[0;32mif\u001b[0m \u001b[0my\u001b[0m\u001b[0;34m==\u001b[0m\u001b[0;36m0\u001b[0m\u001b[0;34m:\u001b[0m\u001b[0;34m\u001b[0m\u001b[0;34m\u001b[0m\u001b[0m\n\u001b[1;32m      6\u001b[0m      \u001b[0;32mraise\u001b[0m \u001b[0mZeroDivisionError\u001b[0m\u001b[0;34m(\u001b[0m\u001b[0;34m)\u001b[0m\u001b[0;34m\u001b[0m\u001b[0;34m\u001b[0m\u001b[0m\n\u001b[0;32m----> 7\u001b[0;31m   \u001b[0mz\u001b[0m\u001b[0;34m=\u001b[0m\u001b[0mx\u001b[0m\u001b[0;34m/\u001b[0m\u001b[0my\u001b[0m\u001b[0;34m\u001b[0m\u001b[0;34m\u001b[0m\u001b[0m\n\u001b[0m\u001b[1;32m      8\u001b[0m   \u001b[0mprint\u001b[0m\u001b[0;34m(\u001b[0m\u001b[0;34m\"Divison =\"\u001b[0m\u001b[0;34m,\u001b[0m\u001b[0mz\u001b[0m\u001b[0;34m)\u001b[0m\u001b[0;34m\u001b[0m\u001b[0;34m\u001b[0m\u001b[0m\n\u001b[1;32m      9\u001b[0m \u001b[0;34m\u001b[0m\u001b[0m\n",
            "\u001b[0;31mTypeError\u001b[0m: unsupported operand type(s) for /: 'int' and 'str'"
          ]
        }
      ]
    },
    {
      "cell_type": "code",
      "source": [
        "from ast import Raise\n",
        "x=int(input())\n",
        "y=input()\n",
        "try:\n",
        "  if y==0: \n",
        "     raise ZeroDivisionError()  \n",
        "  z=x/y\n",
        "  print(\"Divison =\",z)\n",
        "\n",
        "except ZeroDivisionError:\n",
        "  print(\"you cannot divide by zero\")\n",
        "\n",
        "\n",
        "\n",
        "finally:\n",
        "  print(\"finally block\")\n"
      ],
      "metadata": {
        "colab": {
          "base_uri": "https://localhost:8080/",
          "height": 287
        },
        "id": "49MhdV8KxvoV",
        "outputId": "40f2f21c-5543-4cae-bbfd-b5b79c087246"
      },
      "execution_count": 23,
      "outputs": [
        {
          "output_type": "stream",
          "name": "stdout",
          "text": [
            "2\n",
            "0\n",
            "finally block\n"
          ]
        },
        {
          "output_type": "error",
          "ename": "TypeError",
          "evalue": "ignored",
          "traceback": [
            "\u001b[0;31m---------------------------------------------------------------------------\u001b[0m",
            "\u001b[0;31mTypeError\u001b[0m                                 Traceback (most recent call last)",
            "\u001b[0;32m<ipython-input-23-d1f195e517a1>\u001b[0m in \u001b[0;36m<module>\u001b[0;34m\u001b[0m\n\u001b[1;32m      5\u001b[0m   \u001b[0;32mif\u001b[0m \u001b[0my\u001b[0m\u001b[0;34m==\u001b[0m\u001b[0;36m0\u001b[0m\u001b[0;34m:\u001b[0m\u001b[0;34m\u001b[0m\u001b[0;34m\u001b[0m\u001b[0m\n\u001b[1;32m      6\u001b[0m      \u001b[0;32mraise\u001b[0m \u001b[0mZeroDivisionError\u001b[0m\u001b[0;34m(\u001b[0m\u001b[0;34m)\u001b[0m\u001b[0;34m\u001b[0m\u001b[0;34m\u001b[0m\u001b[0m\n\u001b[0;32m----> 7\u001b[0;31m   \u001b[0mz\u001b[0m\u001b[0;34m=\u001b[0m\u001b[0mx\u001b[0m\u001b[0;34m/\u001b[0m\u001b[0my\u001b[0m\u001b[0;34m\u001b[0m\u001b[0;34m\u001b[0m\u001b[0m\n\u001b[0m\u001b[1;32m      8\u001b[0m   \u001b[0mprint\u001b[0m\u001b[0;34m(\u001b[0m\u001b[0;34m\"Divison =\"\u001b[0m\u001b[0;34m,\u001b[0m\u001b[0mz\u001b[0m\u001b[0;34m)\u001b[0m\u001b[0;34m\u001b[0m\u001b[0;34m\u001b[0m\u001b[0m\n\u001b[1;32m      9\u001b[0m \u001b[0;34m\u001b[0m\u001b[0m\n",
            "\u001b[0;31mTypeError\u001b[0m: unsupported operand type(s) for /: 'int' and 'str'"
          ]
        }
      ]
    },
    {
      "cell_type": "code",
      "source": [
        "from ast import Raise\n",
        "x=int(input())\n",
        "y=int(input())\n",
        "try:\n",
        "  if y==0: \n",
        "     raise ZeroDivisionError()  \n",
        "  z=x/y\n",
        "  print(\"Divison =\",z)\n",
        "\n",
        "except ZeroDivisionError:\n",
        "  print(\"you cannot divide by zero\")\n",
        "\n",
        "\n",
        "\n",
        "finally:\n",
        "  print(\"finally block\")"
      ],
      "metadata": {
        "colab": {
          "base_uri": "https://localhost:8080/"
        },
        "id": "TqZcThFEx21K",
        "outputId": "8701159c-0528-4ffb-8d50-394697cc2b4d"
      },
      "execution_count": 24,
      "outputs": [
        {
          "output_type": "stream",
          "name": "stdout",
          "text": [
            "3\n",
            "0\n",
            "you cannot divide by zero\n",
            "finally block\n"
          ]
        }
      ]
    },
    {
      "cell_type": "code",
      "source": [
        "try:\n",
        "  print(\"line1\")\n",
        "  print('line2')\n",
        "  try:\n",
        "    print(\"line3\")\n",
        "    print('line4')\n",
        "  except ZeroDivisionError:\n",
        "    print(\"except\")\n",
        "  finally:\n",
        "    print('finally')\n",
        "  print('lines')\n",
        "except TypeError:\n",
        "  print(\"exception2\")\n",
        "finally:\n",
        "  print(\"finally2\")"
      ],
      "metadata": {
        "colab": {
          "base_uri": "https://localhost:8080/"
        },
        "id": "gBXdLBihxaDD",
        "outputId": "183a19bc-6057-4c8a-c478-5410cb8af46d"
      },
      "execution_count": 22,
      "outputs": [
        {
          "output_type": "stream",
          "name": "stdout",
          "text": [
            "line1\n",
            "line2\n",
            "line3\n",
            "line4\n",
            "finally\n",
            "lines\n",
            "finally2\n"
          ]
        }
      ]
    },
    {
      "cell_type": "markdown",
      "source": [
        "\"\"\"\n",
        "1.try, except, \n",
        "2. try and except should be used along\n",
        "3. We can have no of except blocks\n",
        "4.type of exception raised should be matched with the except exceptionclass Name\n",
        "5. If there is no exception raised in try block, except block is skipped\n",
        "6. if the exception raised is not handled by using except., then DEM works, the program ends\n",
        "7.finally block always runs\n",
        "8. if try block has no exception raised, then else will get executed and viceversa\n",
        "\"\"\""
      ],
      "metadata": {
        "id": "0y-pMvZRxk-L"
      }
    },
    {
      "cell_type": "code",
      "source": [],
      "metadata": {
        "id": "eMc_GlZ3xmp7"
      },
      "execution_count": null,
      "outputs": []
    }
  ]
}